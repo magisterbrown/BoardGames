{
 "cells": [
  {
   "cell_type": "markdown",
   "metadata": {},
   "source": [
    "# Board Games project\n",
    "<div style=\"margin-top:5px\">This project is an exploration of a board games dataset taken from BoardGameGeek website.</div>\n",
    "<div>Project is made for Vilnius School of AI</div>\n",
    "URL: <a href=\"https://boardgamegeek.com\">boardgamegeek.com</a>"
   ]
  },
  {
   "cell_type": "markdown",
   "metadata": {},
   "source": [
    "## Importing modules"
   ]
  },
  {
   "cell_type": "code",
   "execution_count": 1,
   "metadata": {},
   "outputs": [
    {
     "data": {
      "application/javascript": [
       "\n",
       "            setTimeout(function() {\n",
       "                var nbb_cell_id = 1;\n",
       "                var nbb_formatted_code = \"%load_ext nb_black\";\n",
       "                var nbb_cells = Jupyter.notebook.get_cells();\n",
       "                for (var i = 0; i < nbb_cells.length; ++i) {\n",
       "                    if (nbb_cells[i].input_prompt_number == nbb_cell_id) {\n",
       "                        nbb_cells[i].set_text(nbb_formatted_code);\n",
       "                        break;\n",
       "                    }\n",
       "                }\n",
       "            }, 500);\n",
       "            "
      ],
      "text/plain": [
       "<IPython.core.display.Javascript object>"
      ]
     },
     "metadata": {},
     "output_type": "display_data"
    }
   ],
   "source": [
    "%load_ext nb_black"
   ]
  },
  {
   "cell_type": "code",
   "execution_count": 2,
   "metadata": {},
   "outputs": [
    {
     "data": {
      "application/javascript": [
       "\n",
       "            setTimeout(function() {\n",
       "                var nbb_cell_id = 2;\n",
       "                var nbb_formatted_code = \"import pandas as pd\\nimport numpy as np\\nimport matplotlib.pyplot as plt\\nimport json\\nimport re\\nimport seaborn as sns\\nfrom datetime import timedelta\";\n",
       "                var nbb_cells = Jupyter.notebook.get_cells();\n",
       "                for (var i = 0; i < nbb_cells.length; ++i) {\n",
       "                    if (nbb_cells[i].input_prompt_number == nbb_cell_id) {\n",
       "                        nbb_cells[i].set_text(nbb_formatted_code);\n",
       "                        break;\n",
       "                    }\n",
       "                }\n",
       "            }, 500);\n",
       "            "
      ],
      "text/plain": [
       "<IPython.core.display.Javascript object>"
      ]
     },
     "metadata": {},
     "output_type": "display_data"
    }
   ],
   "source": [
    "import pandas as pd\n",
    "import numpy as np\n",
    "import matplotlib.pyplot as plt\n",
    "import json\n",
    "import re\n",
    "import seaborn as sns\n",
    "from datetime import timedelta"
   ]
  },
  {
   "cell_type": "markdown",
   "metadata": {},
   "source": [
    "## Functions"
   ]
  },
  {
   "cell_type": "code",
   "execution_count": 3,
   "metadata": {},
   "outputs": [
    {
     "data": {
      "application/javascript": [
       "\n",
       "            setTimeout(function() {\n",
       "                var nbb_cell_id = 3;\n",
       "                var nbb_formatted_code = \"def expsize(games, col, newcolname):\\n    def deser(partid, part):\\n        return pd.Series(part, index=[partid] * len(part))\\n\\n    des = np.vectorize(deser)\\n\\n    newcol = games[col].str.split(\\\",\\\")\\n    newcol = newcol.apply(lambda x: [el.strip() for el in x])\\n    newcol_id = games[col].str.split(\\\",\\\").index.values\\n\\n    newcolun = pd.concat(des(newcol_id, newcol.values))\\n    newcolun.name = newcolname\\n    newcolun = games.merge(newcolun, left_index=True, right_index=True, how=\\\"inner\\\")\\n    newcolun.drop(columns=[col], inplace=True)\\n    return newcolun\\n\\n\\ndef bar_ch(popvals, hednum, name, xlb, ylb, rot, sort=True, roundc=False, time=False):\\n    if sort:\\n        topvals = popvals.sort_values(ascending=False).head(hednum)\\n    else:\\n        topvals = popvals\\n\\n    barvl = sns.barplot(x=topvals.index, y=topvals, color=\\\"#8C96DB\\\")\\n    barvl.spines[\\\"top\\\"].set_visible(False)\\n    barvl.spines[\\\"right\\\"].set_visible(False)\\n    plt.xticks(rotation=rot)\\n    barvl.set_xlabel(xlb)\\n    barvl.set_ylabel(ylb)\\n    barvl.title.set_text(name)\\n\\n    if time == True:\\n        barvl.set_yticklabels(\\n            pd.to_datetime(barvl.get_yticks(), unit=\\\"m\\\").strftime(\\\"%H:%M\\\")\\n        )\\n    ypos = 0\\n    for rect in topvals:\\n        disp = rect\\n        if roundc == True:\\n            disp = round(rect)\\n        if time == True:\\n            disp = pd.to_datetime(rect, unit=\\\"m\\\").strftime(\\\"%H:%M\\\")\\n        plt.text(ypos, rect, s=disp, ha=\\\"center\\\", va=\\\"bottom\\\")\\n        ypos += 1\";\n",
       "                var nbb_cells = Jupyter.notebook.get_cells();\n",
       "                for (var i = 0; i < nbb_cells.length; ++i) {\n",
       "                    if (nbb_cells[i].input_prompt_number == nbb_cell_id) {\n",
       "                        nbb_cells[i].set_text(nbb_formatted_code);\n",
       "                        break;\n",
       "                    }\n",
       "                }\n",
       "            }, 500);\n",
       "            "
      ],
      "text/plain": [
       "<IPython.core.display.Javascript object>"
      ]
     },
     "metadata": {},
     "output_type": "display_data"
    }
   ],
   "source": [
    "def expsize(games, col, newcolname):\n",
    "    def deser(partid, part):\n",
    "        return pd.Series(part, index=[partid] * len(part))\n",
    "\n",
    "    des = np.vectorize(deser)\n",
    "\n",
    "    newcol = games[col].str.split(\",\")\n",
    "    newcol = newcol.apply(lambda x: [el.strip() for el in x])\n",
    "    newcol_id = games[col].str.split(\",\").index.values\n",
    "\n",
    "    newcolun = pd.concat(des(newcol_id, newcol.values))\n",
    "    newcolun.name = newcolname\n",
    "    newcolun = games.merge(newcolun, left_index=True, right_index=True, how=\"inner\")\n",
    "    newcolun.drop(columns=[col], inplace=True)\n",
    "    return newcolun\n",
    "\n",
    "\n",
    "def bar_ch(popvals, hednum, name, xlb, ylb, rot, sort=True, roundc=False, time=False):\n",
    "    if sort:\n",
    "        topvals = popvals.sort_values(ascending=False).head(hednum)\n",
    "    else:\n",
    "        topvals = popvals\n",
    "\n",
    "    barvl = sns.barplot(x=topvals.index, y=topvals, color=\"#8C96DB\")\n",
    "    barvl.spines[\"top\"].set_visible(False)\n",
    "    barvl.spines[\"right\"].set_visible(False)\n",
    "    plt.xticks(rotation=rot)\n",
    "    barvl.set_xlabel(xlb)\n",
    "    barvl.set_ylabel(ylb)\n",
    "    barvl.title.set_text(name)\n",
    "\n",
    "    if time == True:\n",
    "        barvl.set_yticklabels(\n",
    "            pd.to_datetime(barvl.get_yticks(), unit=\"m\").strftime(\"%H:%M\")\n",
    "        )\n",
    "    ypos = 0\n",
    "    for rect in topvals:\n",
    "        disp = rect\n",
    "        if roundc == True:\n",
    "            disp = round(rect)\n",
    "        if time == True:\n",
    "            disp = pd.to_datetime(rect, unit=\"m\").strftime(\"%H:%M\")\n",
    "        plt.text(ypos, rect, s=disp, ha=\"center\", va=\"bottom\")\n",
    "        ypos += 1"
   ]
  },
  {
   "cell_type": "markdown",
   "metadata": {},
   "source": [
    "## Importing data set"
   ]
  },
  {
   "cell_type": "code",
   "execution_count": 4,
   "metadata": {},
   "outputs": [
    {
     "data": {
      "application/javascript": [
       "\n",
       "            setTimeout(function() {\n",
       "                var nbb_cell_id = 4;\n",
       "                var nbb_formatted_code = \"games = pd.read_csv(\\\"games.csv\\\", engine=\\\"python\\\")\";\n",
       "                var nbb_cells = Jupyter.notebook.get_cells();\n",
       "                for (var i = 0; i < nbb_cells.length; ++i) {\n",
       "                    if (nbb_cells[i].input_prompt_number == nbb_cell_id) {\n",
       "                        nbb_cells[i].set_text(nbb_formatted_code);\n",
       "                        break;\n",
       "                    }\n",
       "                }\n",
       "            }, 500);\n",
       "            "
      ],
      "text/plain": [
       "<IPython.core.display.Javascript object>"
      ]
     },
     "metadata": {},
     "output_type": "display_data"
    }
   ],
   "source": [
    "games = pd.read_csv(\"games.csv\", engine=\"python\")"
   ]
  },
  {
   "cell_type": "markdown",
   "metadata": {},
   "source": [
    "## Explore"
   ]
  },
  {
   "cell_type": "markdown",
   "metadata": {},
   "source": [
    "Types of data:"
   ]
  },
  {
   "cell_type": "code",
   "execution_count": 5,
   "metadata": {},
   "outputs": [
    {
     "data": {
      "text/plain": [
       "rank             int64\n",
       "bgg_url         object\n",
       "game_id          int64\n",
       "names           object\n",
       "min_players      int64\n",
       "max_players      int64\n",
       "avg_time         int64\n",
       "min_time         int64\n",
       "max_time         int64\n",
       "year             int64\n",
       "avg_rating     float64\n",
       "geek_rating    float64\n",
       "num_votes        int64\n",
       "image_url       object\n",
       "age              int64\n",
       "mechanic        object\n",
       "owned            int64\n",
       "category        object\n",
       "designer        object\n",
       "weight         float64\n",
       "dtype: object"
      ]
     },
     "execution_count": 5,
     "metadata": {},
     "output_type": "execute_result"
    },
    {
     "data": {
      "application/javascript": [
       "\n",
       "            setTimeout(function() {\n",
       "                var nbb_cell_id = 5;\n",
       "                var nbb_formatted_code = \"games.dtypes\";\n",
       "                var nbb_cells = Jupyter.notebook.get_cells();\n",
       "                for (var i = 0; i < nbb_cells.length; ++i) {\n",
       "                    if (nbb_cells[i].input_prompt_number == nbb_cell_id) {\n",
       "                        nbb_cells[i].set_text(nbb_formatted_code);\n",
       "                        break;\n",
       "                    }\n",
       "                }\n",
       "            }, 500);\n",
       "            "
      ],
      "text/plain": [
       "<IPython.core.display.Javascript object>"
      ]
     },
     "metadata": {},
     "output_type": "display_data"
    }
   ],
   "source": [
    "games.dtypes"
   ]
  },
  {
   "cell_type": "markdown",
   "metadata": {},
   "source": [
    "Data is mostly numerical but there are categorical columns (category, designer, mechanic, names)"
   ]
  },
  {
   "cell_type": "code",
   "execution_count": 6,
   "metadata": {},
   "outputs": [
    {
     "data": {
      "text/html": [
       "<div>\n",
       "<style scoped>\n",
       "    .dataframe tbody tr th:only-of-type {\n",
       "        vertical-align: middle;\n",
       "    }\n",
       "\n",
       "    .dataframe tbody tr th {\n",
       "        vertical-align: top;\n",
       "    }\n",
       "\n",
       "    .dataframe thead th {\n",
       "        text-align: right;\n",
       "    }\n",
       "</style>\n",
       "<table border=\"1\" class=\"dataframe\">\n",
       "  <thead>\n",
       "    <tr style=\"text-align: right;\">\n",
       "      <th></th>\n",
       "      <th>rank</th>\n",
       "      <th>game_id</th>\n",
       "      <th>min_players</th>\n",
       "      <th>max_players</th>\n",
       "      <th>avg_time</th>\n",
       "      <th>min_time</th>\n",
       "      <th>max_time</th>\n",
       "      <th>year</th>\n",
       "      <th>avg_rating</th>\n",
       "      <th>geek_rating</th>\n",
       "      <th>num_votes</th>\n",
       "      <th>age</th>\n",
       "      <th>owned</th>\n",
       "      <th>weight</th>\n",
       "    </tr>\n",
       "  </thead>\n",
       "  <tbody>\n",
       "    <tr>\n",
       "      <td>count</td>\n",
       "      <td>4999.000000</td>\n",
       "      <td>4999.000000</td>\n",
       "      <td>4999.000000</td>\n",
       "      <td>4999.000000</td>\n",
       "      <td>4999.000000</td>\n",
       "      <td>4999.000000</td>\n",
       "      <td>4999.000000</td>\n",
       "      <td>4999.000000</td>\n",
       "      <td>4999.000000</td>\n",
       "      <td>4999.000000</td>\n",
       "      <td>4999.000000</td>\n",
       "      <td>4999.000000</td>\n",
       "      <td>4999.000000</td>\n",
       "      <td>4999.000000</td>\n",
       "    </tr>\n",
       "    <tr>\n",
       "      <td>mean</td>\n",
       "      <td>2500.000000</td>\n",
       "      <td>89130.612523</td>\n",
       "      <td>2.019404</td>\n",
       "      <td>5.188038</td>\n",
       "      <td>116.193639</td>\n",
       "      <td>83.852971</td>\n",
       "      <td>115.717544</td>\n",
       "      <td>1997.739948</td>\n",
       "      <td>6.969392</td>\n",
       "      <td>6.088576</td>\n",
       "      <td>2013.458292</td>\n",
       "      <td>10.407281</td>\n",
       "      <td>3063.863573</td>\n",
       "      <td>2.343633</td>\n",
       "    </tr>\n",
       "    <tr>\n",
       "      <td>std</td>\n",
       "      <td>1443.231328</td>\n",
       "      <td>77203.598778</td>\n",
       "      <td>0.685282</td>\n",
       "      <td>7.801038</td>\n",
       "      <td>513.710907</td>\n",
       "      <td>317.251581</td>\n",
       "      <td>513.768868</td>\n",
       "      <td>143.192968</td>\n",
       "      <td>0.562825</td>\n",
       "      <td>0.483212</td>\n",
       "      <td>4750.834210</td>\n",
       "      <td>3.237645</td>\n",
       "      <td>6482.861008</td>\n",
       "      <td>0.808694</td>\n",
       "    </tr>\n",
       "    <tr>\n",
       "      <td>min</td>\n",
       "      <td>1.000000</td>\n",
       "      <td>1.000000</td>\n",
       "      <td>0.000000</td>\n",
       "      <td>0.000000</td>\n",
       "      <td>0.000000</td>\n",
       "      <td>0.000000</td>\n",
       "      <td>0.000000</td>\n",
       "      <td>-3000.000000</td>\n",
       "      <td>5.777730</td>\n",
       "      <td>5.640240</td>\n",
       "      <td>62.000000</td>\n",
       "      <td>0.000000</td>\n",
       "      <td>49.000000</td>\n",
       "      <td>0.000000</td>\n",
       "    </tr>\n",
       "    <tr>\n",
       "      <td>25%</td>\n",
       "      <td>1250.500000</td>\n",
       "      <td>11169.000000</td>\n",
       "      <td>2.000000</td>\n",
       "      <td>4.000000</td>\n",
       "      <td>30.000000</td>\n",
       "      <td>30.000000</td>\n",
       "      <td>30.000000</td>\n",
       "      <td>2003.000000</td>\n",
       "      <td>6.540560</td>\n",
       "      <td>5.726970</td>\n",
       "      <td>285.000000</td>\n",
       "      <td>8.000000</td>\n",
       "      <td>626.000000</td>\n",
       "      <td>1.735300</td>\n",
       "    </tr>\n",
       "    <tr>\n",
       "      <td>50%</td>\n",
       "      <td>2500.000000</td>\n",
       "      <td>71906.000000</td>\n",
       "      <td>2.000000</td>\n",
       "      <td>4.000000</td>\n",
       "      <td>60.000000</td>\n",
       "      <td>45.000000</td>\n",
       "      <td>60.000000</td>\n",
       "      <td>2010.000000</td>\n",
       "      <td>6.907890</td>\n",
       "      <td>5.905240</td>\n",
       "      <td>625.000000</td>\n",
       "      <td>11.000000</td>\n",
       "      <td>1204.000000</td>\n",
       "      <td>2.285700</td>\n",
       "    </tr>\n",
       "    <tr>\n",
       "      <td>75%</td>\n",
       "      <td>3749.500000</td>\n",
       "      <td>160456.500000</td>\n",
       "      <td>2.000000</td>\n",
       "      <td>6.000000</td>\n",
       "      <td>120.000000</td>\n",
       "      <td>90.000000</td>\n",
       "      <td>120.000000</td>\n",
       "      <td>2015.000000</td>\n",
       "      <td>7.339040</td>\n",
       "      <td>6.303585</td>\n",
       "      <td>1634.500000</td>\n",
       "      <td>12.000000</td>\n",
       "      <td>2751.500000</td>\n",
       "      <td>2.888900</td>\n",
       "    </tr>\n",
       "    <tr>\n",
       "      <td>max</td>\n",
       "      <td>4999.000000</td>\n",
       "      <td>248949.000000</td>\n",
       "      <td>8.000000</td>\n",
       "      <td>200.000000</td>\n",
       "      <td>22500.000000</td>\n",
       "      <td>17280.000000</td>\n",
       "      <td>22500.000000</td>\n",
       "      <td>2018.000000</td>\n",
       "      <td>9.159150</td>\n",
       "      <td>8.618580</td>\n",
       "      <td>77423.000000</td>\n",
       "      <td>42.000000</td>\n",
       "      <td>111807.000000</td>\n",
       "      <td>4.904800</td>\n",
       "    </tr>\n",
       "  </tbody>\n",
       "</table>\n",
       "</div>"
      ],
      "text/plain": [
       "              rank        game_id  min_players  max_players      avg_time  \\\n",
       "count  4999.000000    4999.000000  4999.000000  4999.000000   4999.000000   \n",
       "mean   2500.000000   89130.612523     2.019404     5.188038    116.193639   \n",
       "std    1443.231328   77203.598778     0.685282     7.801038    513.710907   \n",
       "min       1.000000       1.000000     0.000000     0.000000      0.000000   \n",
       "25%    1250.500000   11169.000000     2.000000     4.000000     30.000000   \n",
       "50%    2500.000000   71906.000000     2.000000     4.000000     60.000000   \n",
       "75%    3749.500000  160456.500000     2.000000     6.000000    120.000000   \n",
       "max    4999.000000  248949.000000     8.000000   200.000000  22500.000000   \n",
       "\n",
       "           min_time      max_time         year   avg_rating  geek_rating  \\\n",
       "count   4999.000000   4999.000000  4999.000000  4999.000000  4999.000000   \n",
       "mean      83.852971    115.717544  1997.739948     6.969392     6.088576   \n",
       "std      317.251581    513.768868   143.192968     0.562825     0.483212   \n",
       "min        0.000000      0.000000 -3000.000000     5.777730     5.640240   \n",
       "25%       30.000000     30.000000  2003.000000     6.540560     5.726970   \n",
       "50%       45.000000     60.000000  2010.000000     6.907890     5.905240   \n",
       "75%       90.000000    120.000000  2015.000000     7.339040     6.303585   \n",
       "max    17280.000000  22500.000000  2018.000000     9.159150     8.618580   \n",
       "\n",
       "          num_votes          age          owned       weight  \n",
       "count   4999.000000  4999.000000    4999.000000  4999.000000  \n",
       "mean    2013.458292    10.407281    3063.863573     2.343633  \n",
       "std     4750.834210     3.237645    6482.861008     0.808694  \n",
       "min       62.000000     0.000000      49.000000     0.000000  \n",
       "25%      285.000000     8.000000     626.000000     1.735300  \n",
       "50%      625.000000    11.000000    1204.000000     2.285700  \n",
       "75%     1634.500000    12.000000    2751.500000     2.888900  \n",
       "max    77423.000000    42.000000  111807.000000     4.904800  "
      ]
     },
     "execution_count": 6,
     "metadata": {},
     "output_type": "execute_result"
    },
    {
     "data": {
      "application/javascript": [
       "\n",
       "            setTimeout(function() {\n",
       "                var nbb_cell_id = 6;\n",
       "                var nbb_formatted_code = \"games.describe()\";\n",
       "                var nbb_cells = Jupyter.notebook.get_cells();\n",
       "                for (var i = 0; i < nbb_cells.length; ++i) {\n",
       "                    if (nbb_cells[i].input_prompt_number == nbb_cell_id) {\n",
       "                        nbb_cells[i].set_text(nbb_formatted_code);\n",
       "                        break;\n",
       "                    }\n",
       "                }\n",
       "            }, 500);\n",
       "            "
      ],
      "text/plain": [
       "<IPython.core.display.Javascript object>"
      ]
     },
     "metadata": {},
     "output_type": "display_data"
    }
   ],
   "source": [
    "games.describe()"
   ]
  },
  {
   "cell_type": "markdown",
   "metadata": {},
   "source": [
    "**Players:**\n",
    "   * In average board games are suitable for max 5 players and can be plaeyed by 2 players\n",
    "   * Game with most players can be played by 200 people\n",
    "   \n",
    "**Time:**\n",
    "   * Average duration of a game is 2 hours\n",
    "   \n",
    "**Age:**\n",
    "   * In average board games are made for players from 10 years old.\n",
    "   * Game with higest age limit is for players from 42 years old.\n",
    "   \n",
    "**Owners:**\n",
    "   * Most popluar game is owned by 111807 owners"
   ]
  },
  {
   "cell_type": "code",
   "execution_count": 7,
   "metadata": {
    "scrolled": true
   },
   "outputs": [
    {
     "data": {
      "text/html": [
       "<div>\n",
       "<style scoped>\n",
       "    .dataframe tbody tr th:only-of-type {\n",
       "        vertical-align: middle;\n",
       "    }\n",
       "\n",
       "    .dataframe tbody tr th {\n",
       "        vertical-align: top;\n",
       "    }\n",
       "\n",
       "    .dataframe thead th {\n",
       "        text-align: right;\n",
       "    }\n",
       "</style>\n",
       "<table border=\"1\" class=\"dataframe\">\n",
       "  <thead>\n",
       "    <tr style=\"text-align: right;\">\n",
       "      <th></th>\n",
       "      <th>rank</th>\n",
       "      <th>bgg_url</th>\n",
       "      <th>game_id</th>\n",
       "      <th>names</th>\n",
       "      <th>min_players</th>\n",
       "      <th>max_players</th>\n",
       "      <th>avg_time</th>\n",
       "      <th>min_time</th>\n",
       "      <th>max_time</th>\n",
       "      <th>year</th>\n",
       "      <th>avg_rating</th>\n",
       "      <th>geek_rating</th>\n",
       "      <th>num_votes</th>\n",
       "      <th>image_url</th>\n",
       "      <th>age</th>\n",
       "      <th>mechanic</th>\n",
       "      <th>owned</th>\n",
       "      <th>category</th>\n",
       "      <th>designer</th>\n",
       "      <th>weight</th>\n",
       "    </tr>\n",
       "  </thead>\n",
       "  <tbody>\n",
       "    <tr>\n",
       "      <td>0</td>\n",
       "      <td>1</td>\n",
       "      <td>https://boardgamegeek.com/boardgame/174430/glo...</td>\n",
       "      <td>174430</td>\n",
       "      <td>Gloomhaven</td>\n",
       "      <td>1</td>\n",
       "      <td>4</td>\n",
       "      <td>120</td>\n",
       "      <td>60</td>\n",
       "      <td>120</td>\n",
       "      <td>2017</td>\n",
       "      <td>8.98893</td>\n",
       "      <td>8.61858</td>\n",
       "      <td>15376</td>\n",
       "      <td>https://cf.geekdo-images.com/original/img/lDN3...</td>\n",
       "      <td>12</td>\n",
       "      <td>Action / Movement Programming, Co-operative Pl...</td>\n",
       "      <td>25928</td>\n",
       "      <td>Adventure, Exploration, Fantasy, Fighting, Min...</td>\n",
       "      <td>Isaac Childres</td>\n",
       "      <td>3.7543</td>\n",
       "    </tr>\n",
       "    <tr>\n",
       "      <td>1</td>\n",
       "      <td>2</td>\n",
       "      <td>https://boardgamegeek.com/boardgame/161936/pan...</td>\n",
       "      <td>161936</td>\n",
       "      <td>Pandemic Legacy: Season 1</td>\n",
       "      <td>2</td>\n",
       "      <td>4</td>\n",
       "      <td>60</td>\n",
       "      <td>60</td>\n",
       "      <td>60</td>\n",
       "      <td>2015</td>\n",
       "      <td>8.66140</td>\n",
       "      <td>8.50163</td>\n",
       "      <td>26063</td>\n",
       "      <td>https://cf.geekdo-images.com/original/img/P_Sw...</td>\n",
       "      <td>13</td>\n",
       "      <td>Action Point Allowance System, Co-operative Pl...</td>\n",
       "      <td>41605</td>\n",
       "      <td>Environmental, Medical</td>\n",
       "      <td>Rob Daviau, Matt Leacock</td>\n",
       "      <td>2.8210</td>\n",
       "    </tr>\n",
       "    <tr>\n",
       "      <td>2</td>\n",
       "      <td>3</td>\n",
       "      <td>https://boardgamegeek.com/boardgame/182028/thr...</td>\n",
       "      <td>182028</td>\n",
       "      <td>Through the Ages: A New Story of Civilization</td>\n",
       "      <td>2</td>\n",
       "      <td>4</td>\n",
       "      <td>240</td>\n",
       "      <td>180</td>\n",
       "      <td>240</td>\n",
       "      <td>2015</td>\n",
       "      <td>8.60673</td>\n",
       "      <td>8.30183</td>\n",
       "      <td>12352</td>\n",
       "      <td>https://cf.geekdo-images.com/original/img/1d2h...</td>\n",
       "      <td>14</td>\n",
       "      <td>Action Point Allowance System, Auction/Bidding...</td>\n",
       "      <td>15848</td>\n",
       "      <td>Card Game, Civilization, Economic</td>\n",
       "      <td>Vlaada Chvátil</td>\n",
       "      <td>4.3678</td>\n",
       "    </tr>\n",
       "    <tr>\n",
       "      <td>3</td>\n",
       "      <td>4</td>\n",
       "      <td>https://boardgamegeek.com/boardgame/167791/ter...</td>\n",
       "      <td>167791</td>\n",
       "      <td>Terraforming Mars</td>\n",
       "      <td>1</td>\n",
       "      <td>5</td>\n",
       "      <td>120</td>\n",
       "      <td>120</td>\n",
       "      <td>120</td>\n",
       "      <td>2016</td>\n",
       "      <td>8.38461</td>\n",
       "      <td>8.19914</td>\n",
       "      <td>26004</td>\n",
       "      <td>https://cf.geekdo-images.com/original/img/o8z_...</td>\n",
       "      <td>12</td>\n",
       "      <td>Card Drafting, Hand Management, Set Collection...</td>\n",
       "      <td>33340</td>\n",
       "      <td>Economic, Environmental, Industry / Manufactur...</td>\n",
       "      <td>Jacob Fryxelius</td>\n",
       "      <td>3.2456</td>\n",
       "    </tr>\n",
       "    <tr>\n",
       "      <td>4</td>\n",
       "      <td>5</td>\n",
       "      <td>https://boardgamegeek.com/boardgame/12333/twil...</td>\n",
       "      <td>12333</td>\n",
       "      <td>Twilight Struggle</td>\n",
       "      <td>2</td>\n",
       "      <td>2</td>\n",
       "      <td>180</td>\n",
       "      <td>120</td>\n",
       "      <td>180</td>\n",
       "      <td>2005</td>\n",
       "      <td>8.33954</td>\n",
       "      <td>8.19787</td>\n",
       "      <td>31301</td>\n",
       "      <td>https://cf.geekdo-images.com/original/img/ZPnn...</td>\n",
       "      <td>13</td>\n",
       "      <td>Area Control / Area Influence, Campaign / Batt...</td>\n",
       "      <td>42952</td>\n",
       "      <td>Modern Warfare, Political, Wargame</td>\n",
       "      <td>Ananda Gupta, Jason Matthews</td>\n",
       "      <td>3.5518</td>\n",
       "    </tr>\n",
       "    <tr>\n",
       "      <td>5</td>\n",
       "      <td>6</td>\n",
       "      <td>https://boardgamegeek.com/boardgame/187645/sta...</td>\n",
       "      <td>187645</td>\n",
       "      <td>Star Wars: Rebellion</td>\n",
       "      <td>2</td>\n",
       "      <td>4</td>\n",
       "      <td>240</td>\n",
       "      <td>180</td>\n",
       "      <td>240</td>\n",
       "      <td>2016</td>\n",
       "      <td>8.47439</td>\n",
       "      <td>8.16545</td>\n",
       "      <td>13336</td>\n",
       "      <td>https://cf.geekdo-images.com/original/img/QT95...</td>\n",
       "      <td>14</td>\n",
       "      <td>Area Control / Area Influence, Area Movement, ...</td>\n",
       "      <td>20682</td>\n",
       "      <td>Fighting, Miniatures, Movies / TV / Radio them...</td>\n",
       "      <td>Corey Konieczka</td>\n",
       "      <td>3.6311</td>\n",
       "    </tr>\n",
       "    <tr>\n",
       "      <td>6</td>\n",
       "      <td>7</td>\n",
       "      <td>https://boardgamegeek.com/boardgame/169786/scythe</td>\n",
       "      <td>169786</td>\n",
       "      <td>Scythe</td>\n",
       "      <td>1</td>\n",
       "      <td>5</td>\n",
       "      <td>115</td>\n",
       "      <td>90</td>\n",
       "      <td>115</td>\n",
       "      <td>2016</td>\n",
       "      <td>8.29158</td>\n",
       "      <td>8.10800</td>\n",
       "      <td>29219</td>\n",
       "      <td>https://cf.geekdo-images.com/original/img/enxC...</td>\n",
       "      <td>14</td>\n",
       "      <td>Area Control / Area Influence, Grid Movement, ...</td>\n",
       "      <td>38279</td>\n",
       "      <td>Civilization, Economic, Fighting, Miniatures, ...</td>\n",
       "      <td>Jamey Stegmaier</td>\n",
       "      <td>3.3609</td>\n",
       "    </tr>\n",
       "    <tr>\n",
       "      <td>7</td>\n",
       "      <td>8</td>\n",
       "      <td>https://boardgamegeek.com/boardgame/120677/ter...</td>\n",
       "      <td>120677</td>\n",
       "      <td>Terra Mystica</td>\n",
       "      <td>2</td>\n",
       "      <td>5</td>\n",
       "      <td>150</td>\n",
       "      <td>60</td>\n",
       "      <td>150</td>\n",
       "      <td>2012</td>\n",
       "      <td>8.23703</td>\n",
       "      <td>8.09296</td>\n",
       "      <td>29309</td>\n",
       "      <td>https://cf.geekdo-images.com/original/img/Cynj...</td>\n",
       "      <td>12</td>\n",
       "      <td>Area Control / Area Influence, Route/Network B...</td>\n",
       "      <td>32637</td>\n",
       "      <td>Civilization, Economic, Fantasy, Territory Bui...</td>\n",
       "      <td>Jens Drögemüller, Helge Ostertag</td>\n",
       "      <td>3.9505</td>\n",
       "    </tr>\n",
       "    <tr>\n",
       "      <td>8</td>\n",
       "      <td>9</td>\n",
       "      <td>https://boardgamegeek.com/boardgame/193738/gre...</td>\n",
       "      <td>193738</td>\n",
       "      <td>Great Western Trail</td>\n",
       "      <td>2</td>\n",
       "      <td>4</td>\n",
       "      <td>150</td>\n",
       "      <td>75</td>\n",
       "      <td>150</td>\n",
       "      <td>2016</td>\n",
       "      <td>8.28574</td>\n",
       "      <td>8.04047</td>\n",
       "      <td>13521</td>\n",
       "      <td>https://cf.geekdo-images.com/original/img/U3Rn...</td>\n",
       "      <td>12</td>\n",
       "      <td>Deck / Pool Building, Hand Management, Point t...</td>\n",
       "      <td>16869</td>\n",
       "      <td>American West</td>\n",
       "      <td>Alexander Pfister</td>\n",
       "      <td>3.7011</td>\n",
       "    </tr>\n",
       "    <tr>\n",
       "      <td>9</td>\n",
       "      <td>10</td>\n",
       "      <td>https://boardgamegeek.com/boardgame/180263/7th...</td>\n",
       "      <td>180263</td>\n",
       "      <td>The 7th Continent</td>\n",
       "      <td>1</td>\n",
       "      <td>4</td>\n",
       "      <td>1000</td>\n",
       "      <td>5</td>\n",
       "      <td>1000</td>\n",
       "      <td>2017</td>\n",
       "      <td>8.67228</td>\n",
       "      <td>8.02458</td>\n",
       "      <td>6057</td>\n",
       "      <td>https://cf.geekdo-images.com/original/img/iQDB...</td>\n",
       "      <td>14</td>\n",
       "      <td>Co-operative Play, Grid Movement, Hand Managem...</td>\n",
       "      <td>12543</td>\n",
       "      <td>Adventure, Card Game, Exploration, Horror, Sci...</td>\n",
       "      <td>Ludovic Roudy, Bruno Sautter</td>\n",
       "      <td>2.8578</td>\n",
       "    </tr>\n",
       "  </tbody>\n",
       "</table>\n",
       "</div>"
      ],
      "text/plain": [
       "   rank                                            bgg_url  game_id  \\\n",
       "0     1  https://boardgamegeek.com/boardgame/174430/glo...   174430   \n",
       "1     2  https://boardgamegeek.com/boardgame/161936/pan...   161936   \n",
       "2     3  https://boardgamegeek.com/boardgame/182028/thr...   182028   \n",
       "3     4  https://boardgamegeek.com/boardgame/167791/ter...   167791   \n",
       "4     5  https://boardgamegeek.com/boardgame/12333/twil...    12333   \n",
       "5     6  https://boardgamegeek.com/boardgame/187645/sta...   187645   \n",
       "6     7  https://boardgamegeek.com/boardgame/169786/scythe   169786   \n",
       "7     8  https://boardgamegeek.com/boardgame/120677/ter...   120677   \n",
       "8     9  https://boardgamegeek.com/boardgame/193738/gre...   193738   \n",
       "9    10  https://boardgamegeek.com/boardgame/180263/7th...   180263   \n",
       "\n",
       "                                           names  min_players  max_players  \\\n",
       "0                                     Gloomhaven            1            4   \n",
       "1                      Pandemic Legacy: Season 1            2            4   \n",
       "2  Through the Ages: A New Story of Civilization            2            4   \n",
       "3                              Terraforming Mars            1            5   \n",
       "4                              Twilight Struggle            2            2   \n",
       "5                           Star Wars: Rebellion            2            4   \n",
       "6                                         Scythe            1            5   \n",
       "7                                  Terra Mystica            2            5   \n",
       "8                            Great Western Trail            2            4   \n",
       "9                              The 7th Continent            1            4   \n",
       "\n",
       "   avg_time  min_time  max_time  year  avg_rating  geek_rating  num_votes  \\\n",
       "0       120        60       120  2017     8.98893      8.61858      15376   \n",
       "1        60        60        60  2015     8.66140      8.50163      26063   \n",
       "2       240       180       240  2015     8.60673      8.30183      12352   \n",
       "3       120       120       120  2016     8.38461      8.19914      26004   \n",
       "4       180       120       180  2005     8.33954      8.19787      31301   \n",
       "5       240       180       240  2016     8.47439      8.16545      13336   \n",
       "6       115        90       115  2016     8.29158      8.10800      29219   \n",
       "7       150        60       150  2012     8.23703      8.09296      29309   \n",
       "8       150        75       150  2016     8.28574      8.04047      13521   \n",
       "9      1000         5      1000  2017     8.67228      8.02458       6057   \n",
       "\n",
       "                                           image_url  age  \\\n",
       "0  https://cf.geekdo-images.com/original/img/lDN3...   12   \n",
       "1  https://cf.geekdo-images.com/original/img/P_Sw...   13   \n",
       "2  https://cf.geekdo-images.com/original/img/1d2h...   14   \n",
       "3  https://cf.geekdo-images.com/original/img/o8z_...   12   \n",
       "4  https://cf.geekdo-images.com/original/img/ZPnn...   13   \n",
       "5  https://cf.geekdo-images.com/original/img/QT95...   14   \n",
       "6  https://cf.geekdo-images.com/original/img/enxC...   14   \n",
       "7  https://cf.geekdo-images.com/original/img/Cynj...   12   \n",
       "8  https://cf.geekdo-images.com/original/img/U3Rn...   12   \n",
       "9  https://cf.geekdo-images.com/original/img/iQDB...   14   \n",
       "\n",
       "                                            mechanic  owned  \\\n",
       "0  Action / Movement Programming, Co-operative Pl...  25928   \n",
       "1  Action Point Allowance System, Co-operative Pl...  41605   \n",
       "2  Action Point Allowance System, Auction/Bidding...  15848   \n",
       "3  Card Drafting, Hand Management, Set Collection...  33340   \n",
       "4  Area Control / Area Influence, Campaign / Batt...  42952   \n",
       "5  Area Control / Area Influence, Area Movement, ...  20682   \n",
       "6  Area Control / Area Influence, Grid Movement, ...  38279   \n",
       "7  Area Control / Area Influence, Route/Network B...  32637   \n",
       "8  Deck / Pool Building, Hand Management, Point t...  16869   \n",
       "9  Co-operative Play, Grid Movement, Hand Managem...  12543   \n",
       "\n",
       "                                            category  \\\n",
       "0  Adventure, Exploration, Fantasy, Fighting, Min...   \n",
       "1                             Environmental, Medical   \n",
       "2                  Card Game, Civilization, Economic   \n",
       "3  Economic, Environmental, Industry / Manufactur...   \n",
       "4                 Modern Warfare, Political, Wargame   \n",
       "5  Fighting, Miniatures, Movies / TV / Radio them...   \n",
       "6  Civilization, Economic, Fighting, Miniatures, ...   \n",
       "7  Civilization, Economic, Fantasy, Territory Bui...   \n",
       "8                                      American West   \n",
       "9  Adventure, Card Game, Exploration, Horror, Sci...   \n",
       "\n",
       "                           designer  weight  \n",
       "0                    Isaac Childres  3.7543  \n",
       "1          Rob Daviau, Matt Leacock  2.8210  \n",
       "2                    Vlaada Chvátil  4.3678  \n",
       "3                   Jacob Fryxelius  3.2456  \n",
       "4      Ananda Gupta, Jason Matthews  3.5518  \n",
       "5                   Corey Konieczka  3.6311  \n",
       "6                   Jamey Stegmaier  3.3609  \n",
       "7  Jens Drögemüller, Helge Ostertag  3.9505  \n",
       "8                 Alexander Pfister  3.7011  \n",
       "9      Ludovic Roudy, Bruno Sautter  2.8578  "
      ]
     },
     "execution_count": 7,
     "metadata": {},
     "output_type": "execute_result"
    },
    {
     "data": {
      "application/javascript": [
       "\n",
       "            setTimeout(function() {\n",
       "                var nbb_cell_id = 7;\n",
       "                var nbb_formatted_code = \"games.head(10)\";\n",
       "                var nbb_cells = Jupyter.notebook.get_cells();\n",
       "                for (var i = 0; i < nbb_cells.length; ++i) {\n",
       "                    if (nbb_cells[i].input_prompt_number == nbb_cell_id) {\n",
       "                        nbb_cells[i].set_text(nbb_formatted_code);\n",
       "                        break;\n",
       "                    }\n",
       "                }\n",
       "            }, 500);\n",
       "            "
      ],
      "text/plain": [
       "<IPython.core.display.Javascript object>"
      ]
     },
     "metadata": {},
     "output_type": "display_data"
    }
   ],
   "source": [
    "games.head(10)"
   ]
  },
  {
   "cell_type": "markdown",
   "metadata": {},
   "source": [
    "## Cleaning"
   ]
  },
  {
   "cell_type": "markdown",
   "metadata": {},
   "source": [
    "Firstly I remove rows with url:"
   ]
  },
  {
   "cell_type": "code",
   "execution_count": 8,
   "metadata": {},
   "outputs": [
    {
     "data": {
      "application/javascript": [
       "\n",
       "            setTimeout(function() {\n",
       "                var nbb_cell_id = 8;\n",
       "                var nbb_formatted_code = \"games.drop(columns=[\\\"bgg_url\\\", \\\"image_url\\\"], inplace=True)\";\n",
       "                var nbb_cells = Jupyter.notebook.get_cells();\n",
       "                for (var i = 0; i < nbb_cells.length; ++i) {\n",
       "                    if (nbb_cells[i].input_prompt_number == nbb_cell_id) {\n",
       "                        nbb_cells[i].set_text(nbb_formatted_code);\n",
       "                        break;\n",
       "                    }\n",
       "                }\n",
       "            }, 500);\n",
       "            "
      ],
      "text/plain": [
       "<IPython.core.display.Javascript object>"
      ]
     },
     "metadata": {},
     "output_type": "display_data"
    }
   ],
   "source": [
    "games.drop(columns=[\"bgg_url\", \"image_url\"], inplace=True)"
   ]
  },
  {
   "cell_type": "markdown",
   "metadata": {},
   "source": [
    "Remove highly correlated columns:"
   ]
  },
  {
   "cell_type": "code",
   "execution_count": 9,
   "metadata": {},
   "outputs": [
    {
     "data": {
      "text/plain": [
       "max_time   avg_time     0.999926\n",
       "avg_time   max_time     0.999926\n",
       "owned      num_votes    0.984790\n",
       "num_votes  owned        0.984790\n",
       "min_time   avg_time     0.659931\n",
       "avg_time   min_time     0.659931\n",
       "min_time   max_time     0.659825\n",
       "max_time   min_time     0.659825\n",
       "dtype: float64"
      ]
     },
     "execution_count": 9,
     "metadata": {},
     "output_type": "execute_result"
    },
    {
     "data": {
      "application/javascript": [
       "\n",
       "            setTimeout(function() {\n",
       "                var nbb_cell_id = 9;\n",
       "                var nbb_formatted_code = \"correl = games.corr().unstack().sort_values(ascending=False)\\ncorrel = correl[correl < 1]\\ncorrel.head(8)\";\n",
       "                var nbb_cells = Jupyter.notebook.get_cells();\n",
       "                for (var i = 0; i < nbb_cells.length; ++i) {\n",
       "                    if (nbb_cells[i].input_prompt_number == nbb_cell_id) {\n",
       "                        nbb_cells[i].set_text(nbb_formatted_code);\n",
       "                        break;\n",
       "                    }\n",
       "                }\n",
       "            }, 500);\n",
       "            "
      ],
      "text/plain": [
       "<IPython.core.display.Javascript object>"
      ]
     },
     "metadata": {},
     "output_type": "display_data"
    }
   ],
   "source": [
    "correl = games.corr().unstack().sort_values(ascending=False)\n",
    "correl = correl[correl < 1]\n",
    "correl.head(8)"
   ]
  },
  {
   "cell_type": "code",
   "execution_count": 10,
   "metadata": {},
   "outputs": [
    {
     "data": {
      "application/javascript": [
       "\n",
       "            setTimeout(function() {\n",
       "                var nbb_cell_id = 10;\n",
       "                var nbb_formatted_code = \"games.drop(columns=[\\\"max_time\\\", \\\"num_votes\\\", \\\"min_time\\\"], inplace=True)\";\n",
       "                var nbb_cells = Jupyter.notebook.get_cells();\n",
       "                for (var i = 0; i < nbb_cells.length; ++i) {\n",
       "                    if (nbb_cells[i].input_prompt_number == nbb_cell_id) {\n",
       "                        nbb_cells[i].set_text(nbb_formatted_code);\n",
       "                        break;\n",
       "                    }\n",
       "                }\n",
       "            }, 500);\n",
       "            "
      ],
      "text/plain": [
       "<IPython.core.display.Javascript object>"
      ]
     },
     "metadata": {},
     "output_type": "display_data"
    }
   ],
   "source": [
    "games.drop(columns=[\"max_time\", \"num_votes\", \"min_time\"], inplace=True)"
   ]
  },
  {
   "cell_type": "markdown",
   "metadata": {},
   "source": [
    "## AVG and Geek rating"
   ]
  },
  {
   "cell_type": "markdown",
   "metadata": {},
   "source": [
    "This line charts compares how AVG rating and geek rating correalates with number of owners.\n",
    "\n",
    "P.S By BGG website geek rating is based on user votes game popularity and other criterias."
   ]
  },
  {
   "cell_type": "code",
   "execution_count": 11,
   "metadata": {},
   "outputs": [
    {
     "data": {
      "image/png": "[encoded data removed]",
      "text/plain": [
       "<Figure size 1296x432 with 2 Axes>"
      ]
     },
     "metadata": {
      "needs_background": "light"
     },
     "output_type": "display_data"
    },
    {
     "data": {
      "application/javascript": [
       "\n",
       "            setTimeout(function() {\n",
       "                var nbb_cell_id = 11;\n",
       "                var nbb_formatted_code = \"grp_rait = games\\ngrp_rait[\\\"binrate\\\"] = pd.cut(games[\\\"avg_rating\\\"], 10)\\n\\ngrp_rait[\\\"geekbin\\\"] = pd.cut(games[\\\"geek_rating\\\"], 10)\\n\\ngrp_raitcom = grp_rait.groupby(\\\"binrate\\\")[\\\"owned\\\"].mean()\\ngrp_geekcom = grp_rait.groupby(\\\"geekbin\\\")[\\\"owned\\\"].mean()\\n\\n\\nbin_inval = pd.DataFrame(\\n    {\\n        \\\"ind\\\": [(a.left + a.right) / 2 for a in grp_raitcom.index],\\n        \\\"val\\\": grp_raitcom.values,\\n    }\\n)\\ngeek_inval = pd.DataFrame(\\n    {\\n        \\\"ind\\\": [(a.left + a.right) / 2 for a in grp_geekcom.index],\\n        \\\"val\\\": grp_geekcom.values,\\n    }\\n)\\n\\n\\nfig, axbo = plt.subplots(1, 2, figsize=(18, 6))\\n\\nowra = sns.lineplot(\\n    x=\\\"ind\\\",\\n    y=\\\"val\\\",\\n    data=bin_inval,\\n    ax=axbo[0],\\n    marker=\\\"o\\\",\\n    markersize=8,\\n    color=\\\"orange\\\",\\n)\\nowra.fill_between(\\n    bin_inval[\\\"ind\\\"].values, bin_inval[\\\"val\\\"].values, color=\\\"orange\\\", alpha=0.3\\n)\\nowge = sns.lineplot(\\n    x=\\\"ind\\\", y=\\\"val\\\", data=geek_inval, ax=axbo[1], marker=\\\"o\\\", markersize=8, color=\\\"red\\\"\\n)\\nowge.fill_between(\\n    geek_inval[\\\"ind\\\"].values, geek_inval[\\\"val\\\"].values, color=\\\"red\\\", alpha=0.3\\n)\\n\\nowra.set_xlabel(\\\"rate\\\", fontsize=15)\\nowra.set_ylabel(\\\"mean owners\\\", fontsize=15)\\nowra.set_title(\\\"AVG rate to owners\\\", size=20)\\nowra.spines[\\\"top\\\"].set_visible(False)\\nowra.spines[\\\"right\\\"].set_visible(False)\\n\\nowge.set_xlabel(\\\"rate\\\", fontsize=15)\\nowge.set_ylabel(\\\"mean owners\\\", fontsize=15)\\nowge.set_title(\\\"Geek rate to owners\\\", size=20)\\nowge.spines[\\\"top\\\"].set_visible(False)\\nowge.spines[\\\"right\\\"].set_visible(False)\\n\\nplt.show()\\ngames.drop(columns=[\\\"binrate\\\", \\\"geekbin\\\"], inplace=True)\";\n",
       "                var nbb_cells = Jupyter.notebook.get_cells();\n",
       "                for (var i = 0; i < nbb_cells.length; ++i) {\n",
       "                    if (nbb_cells[i].input_prompt_number == nbb_cell_id) {\n",
       "                        nbb_cells[i].set_text(nbb_formatted_code);\n",
       "                        break;\n",
       "                    }\n",
       "                }\n",
       "            }, 500);\n",
       "            "
      ],
      "text/plain": [
       "<IPython.core.display.Javascript object>"
      ]
     },
     "metadata": {},
     "output_type": "display_data"
    }
   ],
   "source": [
    "grp_rait = games\n",
    "grp_rait[\"binrate\"] = pd.cut(games[\"avg_rating\"], 10)\n",
    "\n",
    "grp_rait[\"geekbin\"] = pd.cut(games[\"geek_rating\"], 10)\n",
    "\n",
    "grp_raitcom = grp_rait.groupby(\"binrate\")[\"owned\"].mean()\n",
    "grp_geekcom = grp_rait.groupby(\"geekbin\")[\"owned\"].mean()\n",
    "\n",
    "\n",
    "bin_inval = pd.DataFrame(\n",
    "    {\n",
    "        \"ind\": [(a.left + a.right) / 2 for a in grp_raitcom.index],\n",
    "        \"val\": grp_raitcom.values,\n",
    "    }\n",
    ")\n",
    "geek_inval = pd.DataFrame(\n",
    "    {\n",
    "        \"ind\": [(a.left + a.right) / 2 for a in grp_geekcom.index],\n",
    "        \"val\": grp_geekcom.values,\n",
    "    }\n",
    ")\n",
    "\n",
    "\n",
    "fig, axbo = plt.subplots(1, 2, figsize=(18, 6))\n",
    "\n",
    "owra = sns.lineplot(\n",
    "    x=\"ind\",\n",
    "    y=\"val\",\n",
    "    data=bin_inval,\n",
    "    ax=axbo[0],\n",
    "    marker=\"o\",\n",
    "    markersize=8,\n",
    "    color=\"orange\",\n",
    ")\n",
    "owra.fill_between(\n",
    "    bin_inval[\"ind\"].values, bin_inval[\"val\"].values, color=\"orange\", alpha=0.3\n",
    ")\n",
    "owge = sns.lineplot(\n",
    "    x=\"ind\", y=\"val\", data=geek_inval, ax=axbo[1], marker=\"o\", markersize=8, color=\"red\"\n",
    ")\n",
    "owge.fill_between(\n",
    "    geek_inval[\"ind\"].values, geek_inval[\"val\"].values, color=\"red\", alpha=0.3\n",
    ")\n",
    "\n",
    "owra.set_xlabel(\"rate\", fontsize=15)\n",
    "owra.set_ylabel(\"mean owners\", fontsize=15)\n",
    "owra.set_title(\"AVG rate to owners\", size=20)\n",
    "owra.spines[\"top\"].set_visible(False)\n",
    "owra.spines[\"right\"].set_visible(False)\n",
    "\n",
    "owge.set_xlabel(\"rate\", fontsize=15)\n",
    "owge.set_ylabel(\"mean owners\", fontsize=15)\n",
    "owge.set_title(\"Geek rate to owners\", size=20)\n",
    "owge.spines[\"top\"].set_visible(False)\n",
    "owge.spines[\"right\"].set_visible(False)\n",
    "\n",
    "plt.show()\n",
    "games.drop(columns=[\"binrate\", \"geekbin\"], inplace=True)"
   ]
  },
  {
   "cell_type": "markdown",
   "metadata": {},
   "source": [
    "### In result:\n",
    "We can see that geek raiting represents scucess and popularity of the single game better. While AVG raiting can be used to represet tendency like raiting per year or per genre."
   ]
  },
  {
   "cell_type": "markdown",
   "metadata": {},
   "source": [
    "### Games distributed by AVG rating"
   ]
  },
  {
   "cell_type": "code",
   "execution_count": 12,
   "metadata": {},
   "outputs": [
    {
     "data": {
      "image/png": "[encoded data removed]",
      "text/plain": [
       "<Figure size 432x288 with 1 Axes>"
      ]
     },
     "metadata": {
      "needs_background": "light"
     },
     "output_type": "display_data"
    },
    {
     "data": {
      "application/javascript": [
       "\n",
       "            setTimeout(function() {\n",
       "                var nbb_cell_id = 12;\n",
       "                var nbb_formatted_code = \"raitcou = sns.distplot(games[\\\"avg_rating\\\"], bins=10, kde=False)\\nraitcou.set_title(\\\"Games distributed by raiting\\\")\\nraitcou.spines[\\\"top\\\"].set_visible(False)\\nraitcou.spines[\\\"right\\\"].set_visible(False)\\nraitcou.set_xlabel(\\\"AVG rating\\\", fontsize=12)\\nraitcou.set_ylabel(\\\"Number of games\\\", fontsize=12)\\nplt.show()\";\n",
       "                var nbb_cells = Jupyter.notebook.get_cells();\n",
       "                for (var i = 0; i < nbb_cells.length; ++i) {\n",
       "                    if (nbb_cells[i].input_prompt_number == nbb_cell_id) {\n",
       "                        nbb_cells[i].set_text(nbb_formatted_code);\n",
       "                        break;\n",
       "                    }\n",
       "                }\n",
       "            }, 500);\n",
       "            "
      ],
      "text/plain": [
       "<IPython.core.display.Javascript object>"
      ]
     },
     "metadata": {},
     "output_type": "display_data"
    }
   ],
   "source": [
    "raitcou = sns.distplot(games[\"avg_rating\"], bins=10, kde=False)\n",
    "raitcou.set_title(\"Games distributed by raiting\")\n",
    "raitcou.spines[\"top\"].set_visible(False)\n",
    "raitcou.spines[\"right\"].set_visible(False)\n",
    "raitcou.set_xlabel(\"AVG rating\", fontsize=12)\n",
    "raitcou.set_ylabel(\"Number of games\", fontsize=12)\n",
    "plt.show()"
   ]
  },
  {
   "cell_type": "markdown",
   "metadata": {},
   "source": [
    "### In result:\n",
    "Majority of games are in inerval from 6,5 to 7,5."
   ]
  },
  {
   "cell_type": "markdown",
   "metadata": {},
   "source": [
    "## Years"
   ]
  },
  {
   "cell_type": "markdown",
   "metadata": {},
   "source": [
    "Firstly I remove board games before 1960 because there were not many of them and games after 2017 because data is unfinished."
   ]
  },
  {
   "cell_type": "code",
   "execution_count": 13,
   "metadata": {},
   "outputs": [
    {
     "data": {
      "application/javascript": [
       "\n",
       "            setTimeout(function() {\n",
       "                var nbb_cell_id = 13;\n",
       "                var nbb_formatted_code = \"gamclye = games[(games[\\\"year\\\"] >= 1960) & (games[\\\"year\\\"] <= 2017)]\";\n",
       "                var nbb_cells = Jupyter.notebook.get_cells();\n",
       "                for (var i = 0; i < nbb_cells.length; ++i) {\n",
       "                    if (nbb_cells[i].input_prompt_number == nbb_cell_id) {\n",
       "                        nbb_cells[i].set_text(nbb_formatted_code);\n",
       "                        break;\n",
       "                    }\n",
       "                }\n",
       "            }, 500);\n",
       "            "
      ],
      "text/plain": [
       "<IPython.core.display.Javascript object>"
      ]
     },
     "metadata": {},
     "output_type": "display_data"
    }
   ],
   "source": [
    "gamclye = games[(games[\"year\"] >= 1960) & (games[\"year\"] <= 2017)]"
   ]
  },
  {
   "cell_type": "code",
   "execution_count": 14,
   "metadata": {},
   "outputs": [
    {
     "data": {
      "image/png": "[encoded data removed]",
      "text/plain": [
       "<Figure size 432x288 with 1 Axes>"
      ]
     },
     "metadata": {
      "needs_background": "light"
     },
     "output_type": "display_data"
    },
    {
     "data": {
      "application/javascript": [
       "\n",
       "            setTimeout(function() {\n",
       "                var nbb_cell_id = 14;\n",
       "                var nbb_formatted_code = \"games_year = gamclye.groupby(\\\"year\\\")[\\\"names\\\"].count()\\nfig, axgy = plt.subplots()\\naxgy.bar(games_year.index, games_year)\\naxgy.title.set_text(\\\"Games by year\\\")\\naxgy.spines[\\\"top\\\"].set_visible(False)\\naxgy.spines[\\\"right\\\"].set_visible(False)\\nplt.show()\";\n",
       "                var nbb_cells = Jupyter.notebook.get_cells();\n",
       "                for (var i = 0; i < nbb_cells.length; ++i) {\n",
       "                    if (nbb_cells[i].input_prompt_number == nbb_cell_id) {\n",
       "                        nbb_cells[i].set_text(nbb_formatted_code);\n",
       "                        break;\n",
       "                    }\n",
       "                }\n",
       "            }, 500);\n",
       "            "
      ],
      "text/plain": [
       "<IPython.core.display.Javascript object>"
      ]
     },
     "metadata": {},
     "output_type": "display_data"
    }
   ],
   "source": [
    "games_year = gamclye.groupby(\"year\")[\"names\"].count()\n",
    "fig, axgy = plt.subplots()\n",
    "axgy.bar(games_year.index, games_year)\n",
    "axgy.title.set_text(\"Games by year\")\n",
    "axgy.spines[\"top\"].set_visible(False)\n",
    "axgy.spines[\"right\"].set_visible(False)\n",
    "plt.show()"
   ]
  },
  {
   "cell_type": "markdown",
   "metadata": {},
   "source": [
    "### In result:\n",
    "It is clear that market of board games is growing."
   ]
  },
  {
   "cell_type": "markdown",
   "metadata": {},
   "source": [
    "### More trends by year"
   ]
  },
  {
   "cell_type": "code",
   "execution_count": 15,
   "metadata": {},
   "outputs": [
    {
     "data": {
      "image/png": "[encoded data removed]",
      "text/plain": [
       "<Figure size 864x576 with 4 Axes>"
      ]
     },
     "metadata": {
      "needs_background": "light"
     },
     "output_type": "display_data"
    },
    {
     "data": {
      "application/javascript": [
       "\n",
       "            setTimeout(function() {\n",
       "                var nbb_cell_id = 15;\n",
       "                var nbb_formatted_code = \"rait_year = gamclye.groupby(\\\"year\\\")[\\\"avg_rating\\\"].mean()\\ngeek_year = gamclye.groupby(\\\"year\\\")[\\\"geek_rating\\\"].mean()\\nmass_year = gamclye.groupby(\\\"year\\\")[\\\"weight\\\"].mean()\\nmxplyers_year = gamclye.groupby(\\\"year\\\")[\\\"max_players\\\"].mean()\\nmiplyers_year = gamclye.groupby(\\\"year\\\")[\\\"min_players\\\"].mean()\\ntime_year = gamclye.groupby(\\\"year\\\")[\\\"avg_time\\\"].mean()\\nyears = gamclye.groupby(\\\"year\\\")[\\\"year\\\"].mean()\\n\\n\\nfig, ((axry, axmy), (axpy, axty)) = plt.subplots(2, 2, figsize=(12, 8))\\naxry.plot(rait_year, label=\\\"AVG\\\")\\naxry.title.set_text(\\\"AVG rait\\\")\\naxry.plot(geek_year, label=\\\"geek\\\")\\naxry.legend()\\naxry.spines[\\\"top\\\"].set_visible(False)\\naxry.spines[\\\"right\\\"].set_visible(False)\\naxry.grid(True)\\n\\naxmy.plot(mass_year)\\naxmy.title.set_text(\\\"Weight\\\")\\naxmy.spines[\\\"top\\\"].set_visible(False)\\naxmy.spines[\\\"right\\\"].set_visible(False)\\naxmy.grid(True)\\n\\naxpy.plot(mxplyers_year, color=\\\"orange\\\")\\naxpy.plot(miplyers_year, color=\\\"orange\\\")\\naxpy.fill_between(years, miplyers_year, mxplyers_year, color=\\\"red\\\", alpha=0.1)\\naxpy.title.set_text(\\\"Players\\\")\\naxpy.spines[\\\"top\\\"].set_visible(False)\\naxpy.spines[\\\"right\\\"].set_visible(False)\\naxpy.grid(True)\\n\\naxty.plot(time_year)\\naxty.title.set_text(\\\"AVG time\\\")\\naxty.spines[\\\"top\\\"].set_visible(False)\\naxty.spines[\\\"right\\\"].set_visible(False)\\naxty.grid(True)\\naxty.set_yticklabels(pd.to_datetime(axty.get_yticks(), unit=\\\"m\\\").strftime(\\\"%H:%M\\\"))\\nplt.show()\";\n",
       "                var nbb_cells = Jupyter.notebook.get_cells();\n",
       "                for (var i = 0; i < nbb_cells.length; ++i) {\n",
       "                    if (nbb_cells[i].input_prompt_number == nbb_cell_id) {\n",
       "                        nbb_cells[i].set_text(nbb_formatted_code);\n",
       "                        break;\n",
       "                    }\n",
       "                }\n",
       "            }, 500);\n",
       "            "
      ],
      "text/plain": [
       "<IPython.core.display.Javascript object>"
      ]
     },
     "metadata": {},
     "output_type": "display_data"
    }
   ],
   "source": [
    "rait_year = gamclye.groupby(\"year\")[\"avg_rating\"].mean()\n",
    "geek_year = gamclye.groupby(\"year\")[\"geek_rating\"].mean()\n",
    "mass_year = gamclye.groupby(\"year\")[\"weight\"].mean()\n",
    "mxplyers_year = gamclye.groupby(\"year\")[\"max_players\"].mean()\n",
    "miplyers_year = gamclye.groupby(\"year\")[\"min_players\"].mean()\n",
    "time_year = gamclye.groupby(\"year\")[\"avg_time\"].mean()\n",
    "years = gamclye.groupby(\"year\")[\"year\"].mean()\n",
    "\n",
    "\n",
    "fig, ((axry, axmy), (axpy, axty)) = plt.subplots(2, 2, figsize=(12, 8))\n",
    "axry.plot(rait_year, label=\"AVG\")\n",
    "axry.title.set_text(\"AVG rait\")\n",
    "axry.plot(geek_year, label=\"geek\")\n",
    "axry.legend()\n",
    "axry.spines[\"top\"].set_visible(False)\n",
    "axry.spines[\"right\"].set_visible(False)\n",
    "axry.grid(True)\n",
    "\n",
    "axmy.plot(mass_year)\n",
    "axmy.title.set_text(\"Weight\")\n",
    "axmy.spines[\"top\"].set_visible(False)\n",
    "axmy.spines[\"right\"].set_visible(False)\n",
    "axmy.grid(True)\n",
    "\n",
    "axpy.plot(mxplyers_year, color=\"orange\")\n",
    "axpy.plot(miplyers_year, color=\"orange\")\n",
    "axpy.fill_between(years, miplyers_year, mxplyers_year, color=\"red\", alpha=0.1)\n",
    "axpy.title.set_text(\"Players\")\n",
    "axpy.spines[\"top\"].set_visible(False)\n",
    "axpy.spines[\"right\"].set_visible(False)\n",
    "axpy.grid(True)\n",
    "\n",
    "axty.plot(time_year)\n",
    "axty.title.set_text(\"AVG time\")\n",
    "axty.spines[\"top\"].set_visible(False)\n",
    "axty.spines[\"right\"].set_visible(False)\n",
    "axty.grid(True)\n",
    "axty.set_yticklabels(pd.to_datetime(axty.get_yticks(), unit=\"m\").strftime(\"%H:%M\"))\n",
    "plt.show()"
   ]
  },
  {
   "cell_type": "markdown",
   "metadata": {},
   "source": [
    "### In result:\n",
    "* Geek raiting is more sceptical than AVG rating\n",
    "* Avearage rating of all games grow steadily since 2000 year.\n",
    "* In the end of 1970 and 1980 realased many heaevy games for huge amount of players and long time to play."
   ]
  },
  {
   "cell_type": "code",
   "execution_count": 16,
   "metadata": {},
   "outputs": [
    {
     "data": {
      "text/html": [
       "<div>\n",
       "<style scoped>\n",
       "    .dataframe tbody tr th:only-of-type {\n",
       "        vertical-align: middle;\n",
       "    }\n",
       "\n",
       "    .dataframe tbody tr th {\n",
       "        vertical-align: top;\n",
       "    }\n",
       "\n",
       "    .dataframe thead th {\n",
       "        text-align: right;\n",
       "    }\n",
       "</style>\n",
       "<table border=\"1\" class=\"dataframe\">\n",
       "  <thead>\n",
       "    <tr style=\"text-align: right;\">\n",
       "      <th></th>\n",
       "      <th>rank</th>\n",
       "      <th>game_id</th>\n",
       "      <th>names</th>\n",
       "      <th>min_players</th>\n",
       "      <th>max_players</th>\n",
       "      <th>avg_time</th>\n",
       "      <th>year</th>\n",
       "      <th>avg_rating</th>\n",
       "      <th>geek_rating</th>\n",
       "      <th>age</th>\n",
       "      <th>mechanic</th>\n",
       "      <th>owned</th>\n",
       "      <th>category</th>\n",
       "      <th>designer</th>\n",
       "      <th>weight</th>\n",
       "    </tr>\n",
       "  </thead>\n",
       "  <tbody>\n",
       "    <tr>\n",
       "      <td>6</td>\n",
       "      <td>7</td>\n",
       "      <td>169786</td>\n",
       "      <td>Scythe</td>\n",
       "      <td>1</td>\n",
       "      <td>5</td>\n",
       "      <td>115</td>\n",
       "      <td>2016</td>\n",
       "      <td>8.29158</td>\n",
       "      <td>8.108</td>\n",
       "      <td>14</td>\n",
       "      <td>Area Control / Area Influence, Grid Movement, ...</td>\n",
       "      <td>38279</td>\n",
       "      <td>Civilization, Economic, Fighting, Miniatures, ...</td>\n",
       "      <td>Jamey Stegmaier</td>\n",
       "      <td>3.3609</td>\n",
       "    </tr>\n",
       "  </tbody>\n",
       "</table>\n",
       "</div>"
      ],
      "text/plain": [
       "   rank  game_id   names  min_players  max_players  avg_time  year  \\\n",
       "6     7   169786  Scythe            1            5       115  2016   \n",
       "\n",
       "   avg_rating  geek_rating  age  \\\n",
       "6     8.29158        8.108   14   \n",
       "\n",
       "                                            mechanic  owned  \\\n",
       "6  Area Control / Area Influence, Grid Movement, ...  38279   \n",
       "\n",
       "                                            category         designer  weight  \n",
       "6  Civilization, Economic, Fighting, Miniatures, ...  Jamey Stegmaier  3.3609  "
      ]
     },
     "execution_count": 16,
     "metadata": {},
     "output_type": "execute_result"
    },
    {
     "data": {
      "application/javascript": [
       "\n",
       "            setTimeout(function() {\n",
       "                var nbb_cell_id = 16;\n",
       "                var nbb_formatted_code = \"games[games[\\\"names\\\"] == \\\"Scythe\\\"]\";\n",
       "                var nbb_cells = Jupyter.notebook.get_cells();\n",
       "                for (var i = 0; i < nbb_cells.length; ++i) {\n",
       "                    if (nbb_cells[i].input_prompt_number == nbb_cell_id) {\n",
       "                        nbb_cells[i].set_text(nbb_formatted_code);\n",
       "                        break;\n",
       "                    }\n",
       "                }\n",
       "            }, 500);\n",
       "            "
      ],
      "text/plain": [
       "<IPython.core.display.Javascript object>"
      ]
     },
     "metadata": {},
     "output_type": "display_data"
    }
   ],
   "source": [
    "games[games[\"names\"] == \"Scythe\"]"
   ]
  },
  {
   "cell_type": "markdown",
   "metadata": {},
   "source": [
    "## Categories"
   ]
  },
  {
   "cell_type": "markdown",
   "metadata": {},
   "source": [
    "Firstly I create unique row for each category of each game."
   ]
  },
  {
   "cell_type": "code",
   "execution_count": 17,
   "metadata": {},
   "outputs": [
    {
     "data": {
      "text/html": [
       "<div>\n",
       "<style scoped>\n",
       "    .dataframe tbody tr th:only-of-type {\n",
       "        vertical-align: middle;\n",
       "    }\n",
       "\n",
       "    .dataframe tbody tr th {\n",
       "        vertical-align: top;\n",
       "    }\n",
       "\n",
       "    .dataframe thead th {\n",
       "        text-align: right;\n",
       "    }\n",
       "</style>\n",
       "<table border=\"1\" class=\"dataframe\">\n",
       "  <thead>\n",
       "    <tr style=\"text-align: right;\">\n",
       "      <th></th>\n",
       "      <th>rank</th>\n",
       "      <th>game_id</th>\n",
       "      <th>names</th>\n",
       "      <th>min_players</th>\n",
       "      <th>max_players</th>\n",
       "      <th>avg_time</th>\n",
       "      <th>year</th>\n",
       "      <th>avg_rating</th>\n",
       "      <th>geek_rating</th>\n",
       "      <th>age</th>\n",
       "      <th>mechanic</th>\n",
       "      <th>owned</th>\n",
       "      <th>designer</th>\n",
       "      <th>weight</th>\n",
       "      <th>CatSize</th>\n",
       "      <th>Category</th>\n",
       "    </tr>\n",
       "  </thead>\n",
       "  <tbody>\n",
       "    <tr>\n",
       "      <td>0</td>\n",
       "      <td>1</td>\n",
       "      <td>174430</td>\n",
       "      <td>Gloomhaven</td>\n",
       "      <td>1</td>\n",
       "      <td>4</td>\n",
       "      <td>120</td>\n",
       "      <td>2017</td>\n",
       "      <td>8.98893</td>\n",
       "      <td>8.61858</td>\n",
       "      <td>12</td>\n",
       "      <td>Action / Movement Programming, Co-operative Pl...</td>\n",
       "      <td>25928</td>\n",
       "      <td>Isaac Childres</td>\n",
       "      <td>3.7543</td>\n",
       "      <td>5</td>\n",
       "      <td>Adventure</td>\n",
       "    </tr>\n",
       "    <tr>\n",
       "      <td>0</td>\n",
       "      <td>1</td>\n",
       "      <td>174430</td>\n",
       "      <td>Gloomhaven</td>\n",
       "      <td>1</td>\n",
       "      <td>4</td>\n",
       "      <td>120</td>\n",
       "      <td>2017</td>\n",
       "      <td>8.98893</td>\n",
       "      <td>8.61858</td>\n",
       "      <td>12</td>\n",
       "      <td>Action / Movement Programming, Co-operative Pl...</td>\n",
       "      <td>25928</td>\n",
       "      <td>Isaac Childres</td>\n",
       "      <td>3.7543</td>\n",
       "      <td>5</td>\n",
       "      <td>Exploration</td>\n",
       "    </tr>\n",
       "    <tr>\n",
       "      <td>0</td>\n",
       "      <td>1</td>\n",
       "      <td>174430</td>\n",
       "      <td>Gloomhaven</td>\n",
       "      <td>1</td>\n",
       "      <td>4</td>\n",
       "      <td>120</td>\n",
       "      <td>2017</td>\n",
       "      <td>8.98893</td>\n",
       "      <td>8.61858</td>\n",
       "      <td>12</td>\n",
       "      <td>Action / Movement Programming, Co-operative Pl...</td>\n",
       "      <td>25928</td>\n",
       "      <td>Isaac Childres</td>\n",
       "      <td>3.7543</td>\n",
       "      <td>5</td>\n",
       "      <td>Fantasy</td>\n",
       "    </tr>\n",
       "  </tbody>\n",
       "</table>\n",
       "</div>"
      ],
      "text/plain": [
       "   rank  game_id       names  min_players  max_players  avg_time  year  \\\n",
       "0     1   174430  Gloomhaven            1            4       120  2017   \n",
       "0     1   174430  Gloomhaven            1            4       120  2017   \n",
       "0     1   174430  Gloomhaven            1            4       120  2017   \n",
       "\n",
       "   avg_rating  geek_rating  age  \\\n",
       "0     8.98893      8.61858   12   \n",
       "0     8.98893      8.61858   12   \n",
       "0     8.98893      8.61858   12   \n",
       "\n",
       "                                            mechanic  owned        designer  \\\n",
       "0  Action / Movement Programming, Co-operative Pl...  25928  Isaac Childres   \n",
       "0  Action / Movement Programming, Co-operative Pl...  25928  Isaac Childres   \n",
       "0  Action / Movement Programming, Co-operative Pl...  25928  Isaac Childres   \n",
       "\n",
       "   weight  CatSize     Category  \n",
       "0  3.7543        5    Adventure  \n",
       "0  3.7543        5  Exploration  \n",
       "0  3.7543        5      Fantasy  "
      ]
     },
     "execution_count": 17,
     "metadata": {},
     "output_type": "execute_result"
    },
    {
     "data": {
      "application/javascript": [
       "\n",
       "            setTimeout(function() {\n",
       "                var nbb_cell_id = 17;\n",
       "                var nbb_formatted_code = \"games[\\\"CatSize\\\"] = games[\\\"category\\\"].apply(lambda x: len(x.split(\\\",\\\")))\\ncatsun = expsize(games, \\\"category\\\", \\\"Category\\\")\\ncatsun.head(3)\";\n",
       "                var nbb_cells = Jupyter.notebook.get_cells();\n",
       "                for (var i = 0; i < nbb_cells.length; ++i) {\n",
       "                    if (nbb_cells[i].input_prompt_number == nbb_cell_id) {\n",
       "                        nbb_cells[i].set_text(nbb_formatted_code);\n",
       "                        break;\n",
       "                    }\n",
       "                }\n",
       "            }, 500);\n",
       "            "
      ],
      "text/plain": [
       "<IPython.core.display.Javascript object>"
      ]
     },
     "metadata": {},
     "output_type": "display_data"
    }
   ],
   "source": [
    "games[\"CatSize\"] = games[\"category\"].apply(lambda x: len(x.split(\",\")))\n",
    "catsun = expsize(games, \"category\", \"Category\")\n",
    "catsun.head(3)"
   ]
  },
  {
   "cell_type": "code",
   "execution_count": 18,
   "metadata": {},
   "outputs": [
    {
     "data": {
      "image/png": "[encoded data removed]",
      "text/plain": [
       "<Figure size 432x288 with 1 Axes>"
      ]
     },
     "metadata": {
      "needs_background": "light"
     },
     "output_type": "display_data"
    },
    {
     "data": {
      "application/javascript": [
       "\n",
       "            setTimeout(function() {\n",
       "                var nbb_cell_id = 18;\n",
       "                var nbb_formatted_code = \"popcats = catsun.groupby(\\\"Category\\\")[\\\"names\\\"].count()\\nbar_ch(popcats, 10, \\\"Number of games in each category\\\", \\\"\\\", \\\"\\\", 45)\\npopcats = popcats[popcats > 150]\";\n",
       "                var nbb_cells = Jupyter.notebook.get_cells();\n",
       "                for (var i = 0; i < nbb_cells.length; ++i) {\n",
       "                    if (nbb_cells[i].input_prompt_number == nbb_cell_id) {\n",
       "                        nbb_cells[i].set_text(nbb_formatted_code);\n",
       "                        break;\n",
       "                    }\n",
       "                }\n",
       "            }, 500);\n",
       "            "
      ],
      "text/plain": [
       "<IPython.core.display.Javascript object>"
      ]
     },
     "metadata": {},
     "output_type": "display_data"
    }
   ],
   "source": [
    "popcats = catsun.groupby(\"Category\")[\"names\"].count()\n",
    "bar_ch(popcats, 10, \"Number of games in each category\", \"\", \"\", 45)\n",
    "popcats = popcats[popcats > 150]"
   ]
  },
  {
   "cell_type": "markdown",
   "metadata": {},
   "source": [
    "## In result\n",
    "* Most popular genres for board game developement are Card Game, Wargame and Fantasy."
   ]
  },
  {
   "cell_type": "code",
   "execution_count": 19,
   "metadata": {},
   "outputs": [
    {
     "data": {
      "image/png": "[encoded data removed]",
      "text/plain": [
       "<Figure size 1152x576 with 1 Axes>"
      ]
     },
     "metadata": {
      "needs_background": "light"
     },
     "output_type": "display_data"
    },
    {
     "data": {
      "application/javascript": [
       "\n",
       "            setTimeout(function() {\n",
       "                var nbb_cell_id = 19;\n",
       "                var nbb_formatted_code = \"plt.figure(figsize=(16, 8))\\nrait_cats = catsun.groupby(\\\"Category\\\")[\\\"avg_rating\\\"].mean()\\nown_cats = catsun.groupby(\\\"Category\\\")[\\\"owned\\\"].mean()\\nown_cats = own_cats[popcats.index]\\nrait_cats = rait_cats[popcats.index]\\nraiow = sns.scatterplot(own_cats, rait_cats, hue=popcats.index)\\nraiow.get_legend().remove()\\n\\nraiow.spines[\\\"top\\\"].set_visible(False)\\nraiow.spines[\\\"right\\\"].set_visible(False)\\n\\nraiow.grid(True)\\nraiow.set_xlabel(\\\"Average number of owners\\\", fontsize=17)\\nraiow.set_ylabel(\\\"AVG rating\\\", fontsize=17)\\nraiow.set_title(\\\"Categories by rating and popularity\\\", size=20)\\n\\nfor txt in popcats.index.values:\\n    raiow.annotate(txt, (own_cats[txt], rait_cats[txt]))\";\n",
       "                var nbb_cells = Jupyter.notebook.get_cells();\n",
       "                for (var i = 0; i < nbb_cells.length; ++i) {\n",
       "                    if (nbb_cells[i].input_prompt_number == nbb_cell_id) {\n",
       "                        nbb_cells[i].set_text(nbb_formatted_code);\n",
       "                        break;\n",
       "                    }\n",
       "                }\n",
       "            }, 500);\n",
       "            "
      ],
      "text/plain": [
       "<IPython.core.display.Javascript object>"
      ]
     },
     "metadata": {},
     "output_type": "display_data"
    }
   ],
   "source": [
    "plt.figure(figsize=(16, 8))\n",
    "rait_cats = catsun.groupby(\"Category\")[\"avg_rating\"].mean()\n",
    "own_cats = catsun.groupby(\"Category\")[\"owned\"].mean()\n",
    "own_cats = own_cats[popcats.index]\n",
    "rait_cats = rait_cats[popcats.index]\n",
    "raiow = sns.scatterplot(own_cats, rait_cats, hue=popcats.index)\n",
    "raiow.get_legend().remove()\n",
    "\n",
    "raiow.spines[\"top\"].set_visible(False)\n",
    "raiow.spines[\"right\"].set_visible(False)\n",
    "\n",
    "raiow.grid(True)\n",
    "raiow.set_xlabel(\"Average number of owners\", fontsize=17)\n",
    "raiow.set_ylabel(\"AVG rating\", fontsize=17)\n",
    "raiow.set_title(\"Categories by rating and popularity\", size=20)\n",
    "\n",
    "for txt in popcats.index.values:\n",
    "    raiow.annotate(txt, (own_cats[txt], rait_cats[txt]))"
   ]
  },
  {
   "cell_type": "markdown",
   "metadata": {},
   "source": [
    "## In result\n",
    "* Players give higer marks to games realated with war (World War II, Wargame, Miniatures)\n",
    "* Players prefere to buy games with Building (Territiory Building, City Building)\n",
    "* Childrens, Action or Racing catgories are not best choice for board games."
   ]
  },
  {
   "cell_type": "markdown",
   "metadata": {},
   "source": [
    "Age limit for different categories:"
   ]
  },
  {
   "cell_type": "code",
   "execution_count": 20,
   "metadata": {},
   "outputs": [
    {
     "data": {
      "text/html": [
       "<div>\n",
       "<style scoped>\n",
       "    .dataframe tbody tr th:only-of-type {\n",
       "        vertical-align: middle;\n",
       "    }\n",
       "\n",
       "    .dataframe tbody tr th {\n",
       "        vertical-align: top;\n",
       "    }\n",
       "\n",
       "    .dataframe thead th {\n",
       "        text-align: right;\n",
       "    }\n",
       "</style>\n",
       "<table border=\"1\" class=\"dataframe\">\n",
       "  <thead>\n",
       "    <tr style=\"text-align: right;\">\n",
       "      <th></th>\n",
       "      <th>Age</th>\n",
       "    </tr>\n",
       "    <tr>\n",
       "      <th>Category</th>\n",
       "      <th></th>\n",
       "    </tr>\n",
       "  </thead>\n",
       "  <tbody>\n",
       "    <tr>\n",
       "      <td>Horror</td>\n",
       "      <td>12</td>\n",
       "    </tr>\n",
       "    <tr>\n",
       "      <td>Civilization</td>\n",
       "      <td>12</td>\n",
       "    </tr>\n",
       "    <tr>\n",
       "      <td>Political</td>\n",
       "      <td>12</td>\n",
       "    </tr>\n",
       "    <tr>\n",
       "      <td>Negotiation</td>\n",
       "      <td>12</td>\n",
       "    </tr>\n",
       "    <tr>\n",
       "      <td>Economic</td>\n",
       "      <td>12</td>\n",
       "    </tr>\n",
       "    <tr>\n",
       "      <td>Science Fiction</td>\n",
       "      <td>11</td>\n",
       "    </tr>\n",
       "    <tr>\n",
       "      <td>Transportation</td>\n",
       "      <td>11</td>\n",
       "    </tr>\n",
       "    <tr>\n",
       "      <td>Fighting</td>\n",
       "      <td>11</td>\n",
       "    </tr>\n",
       "    <tr>\n",
       "      <td>Adventure</td>\n",
       "      <td>11</td>\n",
       "    </tr>\n",
       "    <tr>\n",
       "      <td>Miniatures</td>\n",
       "      <td>11</td>\n",
       "    </tr>\n",
       "    <tr>\n",
       "      <td>Exploration</td>\n",
       "      <td>11</td>\n",
       "    </tr>\n",
       "    <tr>\n",
       "      <td>Fantasy</td>\n",
       "      <td>11</td>\n",
       "    </tr>\n",
       "    <tr>\n",
       "      <td>Territory Building</td>\n",
       "      <td>11</td>\n",
       "    </tr>\n",
       "    <tr>\n",
       "      <td>Ancient</td>\n",
       "      <td>11</td>\n",
       "    </tr>\n",
       "    <tr>\n",
       "      <td>City Building</td>\n",
       "      <td>11</td>\n",
       "    </tr>\n",
       "    <tr>\n",
       "      <td>Nautical</td>\n",
       "      <td>11</td>\n",
       "    </tr>\n",
       "    <tr>\n",
       "      <td>Wargame</td>\n",
       "      <td>11</td>\n",
       "    </tr>\n",
       "    <tr>\n",
       "      <td>Deduction</td>\n",
       "      <td>11</td>\n",
       "    </tr>\n",
       "    <tr>\n",
       "      <td>Medieval</td>\n",
       "      <td>10</td>\n",
       "    </tr>\n",
       "    <tr>\n",
       "      <td>Humor</td>\n",
       "      <td>10</td>\n",
       "    </tr>\n",
       "    <tr>\n",
       "      <td>Bluffing</td>\n",
       "      <td>10</td>\n",
       "    </tr>\n",
       "    <tr>\n",
       "      <td>Dice</td>\n",
       "      <td>10</td>\n",
       "    </tr>\n",
       "    <tr>\n",
       "      <td>Card Game</td>\n",
       "      <td>10</td>\n",
       "    </tr>\n",
       "    <tr>\n",
       "      <td>World War II</td>\n",
       "      <td>10</td>\n",
       "    </tr>\n",
       "    <tr>\n",
       "      <td>Party Game</td>\n",
       "      <td>10</td>\n",
       "    </tr>\n",
       "    <tr>\n",
       "      <td>Racing</td>\n",
       "      <td>9</td>\n",
       "    </tr>\n",
       "    <tr>\n",
       "      <td>Real-time</td>\n",
       "      <td>9</td>\n",
       "    </tr>\n",
       "    <tr>\n",
       "      <td>Abstract Strategy</td>\n",
       "      <td>9</td>\n",
       "    </tr>\n",
       "    <tr>\n",
       "      <td>Animals</td>\n",
       "      <td>9</td>\n",
       "    </tr>\n",
       "    <tr>\n",
       "      <td>Action / Dexterity</td>\n",
       "      <td>7</td>\n",
       "    </tr>\n",
       "    <tr>\n",
       "      <td>Children's Game</td>\n",
       "      <td>6</td>\n",
       "    </tr>\n",
       "  </tbody>\n",
       "</table>\n",
       "</div>"
      ],
      "text/plain": [
       "                    Age\n",
       "Category               \n",
       "Horror               12\n",
       "Civilization         12\n",
       "Political            12\n",
       "Negotiation          12\n",
       "Economic             12\n",
       "Science Fiction      11\n",
       "Transportation       11\n",
       "Fighting             11\n",
       "Adventure            11\n",
       "Miniatures           11\n",
       "Exploration          11\n",
       "Fantasy              11\n",
       "Territory Building   11\n",
       "Ancient              11\n",
       "City Building        11\n",
       "Nautical             11\n",
       "Wargame              11\n",
       "Deduction            11\n",
       "Medieval             10\n",
       "Humor                10\n",
       "Bluffing             10\n",
       "Dice                 10\n",
       "Card Game            10\n",
       "World War II         10\n",
       "Party Game           10\n",
       "Racing                9\n",
       "Real-time             9\n",
       "Abstract Strategy     9\n",
       "Animals               9\n",
       "Action / Dexterity    7\n",
       "Children's Game       6"
      ]
     },
     "execution_count": 20,
     "metadata": {},
     "output_type": "execute_result"
    },
    {
     "data": {
      "application/javascript": [
       "\n",
       "            setTimeout(function() {\n",
       "                var nbb_cell_id = 20;\n",
       "                var nbb_formatted_code = \"age_cats = catsun.groupby(\\\"Category\\\")[\\\"age\\\"].mean()\\nage_cats = age_cats[popcats.index]\\ncatage = pd.DataFrame(age_cats.sort_values(ascending=False))\\ncatage.rename(columns={\\\"age\\\": \\\"Age\\\"}, inplace=True)\\ncatage[\\\"Age\\\"] = catage[\\\"Age\\\"].apply(lambda x: round(x))\\ncatage\";\n",
       "                var nbb_cells = Jupyter.notebook.get_cells();\n",
       "                for (var i = 0; i < nbb_cells.length; ++i) {\n",
       "                    if (nbb_cells[i].input_prompt_number == nbb_cell_id) {\n",
       "                        nbb_cells[i].set_text(nbb_formatted_code);\n",
       "                        break;\n",
       "                    }\n",
       "                }\n",
       "            }, 500);\n",
       "            "
      ],
      "text/plain": [
       "<IPython.core.display.Javascript object>"
      ]
     },
     "metadata": {},
     "output_type": "display_data"
    }
   ],
   "source": [
    "age_cats = catsun.groupby(\"Category\")[\"age\"].mean()\n",
    "age_cats = age_cats[popcats.index]\n",
    "catage = pd.DataFrame(age_cats.sort_values(ascending=False))\n",
    "catage.rename(columns={\"age\": \"Age\"}, inplace=True)\n",
    "catage[\"Age\"] = catage[\"Age\"].apply(lambda x: round(x))\n",
    "catage"
   ]
  },
  {
   "cell_type": "markdown",
   "metadata": {},
   "source": [
    "#### Top 4 most used mechanics for each category"
   ]
  },
  {
   "cell_type": "code",
   "execution_count": 21,
   "metadata": {},
   "outputs": [
    {
     "data": {
      "text/html": [
       "<div>\n",
       "<style scoped>\n",
       "    .dataframe tbody tr th:only-of-type {\n",
       "        vertical-align: middle;\n",
       "    }\n",
       "\n",
       "    .dataframe tbody tr th {\n",
       "        vertical-align: top;\n",
       "    }\n",
       "\n",
       "    .dataframe thead tr th {\n",
       "        text-align: left;\n",
       "    }\n",
       "\n",
       "    .dataframe thead tr:last-of-type th {\n",
       "        text-align: right;\n",
       "    }\n",
       "</style>\n",
       "<table border=\"1\" class=\"dataframe\">\n",
       "  <thead>\n",
       "    <tr>\n",
       "      <th></th>\n",
       "      <th colspan=\"4\" halign=\"left\"></th>\n",
       "    </tr>\n",
       "    <tr>\n",
       "      <th></th>\n",
       "      <th>TOP 1</th>\n",
       "      <th>TOP 2</th>\n",
       "      <th>TOP 3</th>\n",
       "      <th>TOP 4</th>\n",
       "    </tr>\n",
       "    <tr>\n",
       "      <th>Category</th>\n",
       "      <th></th>\n",
       "      <th></th>\n",
       "      <th></th>\n",
       "      <th></th>\n",
       "    </tr>\n",
       "  </thead>\n",
       "  <tbody>\n",
       "    <tr>\n",
       "      <td>Abstract Strategy</td>\n",
       "      <td>Tile Placement</td>\n",
       "      <td>Grid Movement</td>\n",
       "      <td>Area Control / Area Influence</td>\n",
       "      <td>Hand Management</td>\n",
       "    </tr>\n",
       "    <tr>\n",
       "      <td>Action / Dexterity</td>\n",
       "      <td>none</td>\n",
       "      <td>Dice Rolling</td>\n",
       "      <td>Pattern Recognition</td>\n",
       "      <td>Variable Player Powers</td>\n",
       "    </tr>\n",
       "    <tr>\n",
       "      <td>Adventure</td>\n",
       "      <td>Dice Rolling</td>\n",
       "      <td>Variable Player Powers</td>\n",
       "      <td>Modular Board</td>\n",
       "      <td>Co-operative Play</td>\n",
       "    </tr>\n",
       "    <tr>\n",
       "      <td>Ancient</td>\n",
       "      <td>Dice Rolling</td>\n",
       "      <td>Hand Management</td>\n",
       "      <td>Area Control / Area Influence</td>\n",
       "      <td>Set Collection</td>\n",
       "    </tr>\n",
       "    <tr>\n",
       "      <td>Animals</td>\n",
       "      <td>Hand Management</td>\n",
       "      <td>Set Collection</td>\n",
       "      <td>Dice Rolling</td>\n",
       "      <td>Card Drafting</td>\n",
       "    </tr>\n",
       "    <tr>\n",
       "      <td>Bluffing</td>\n",
       "      <td>Hand Management</td>\n",
       "      <td>Variable Player Powers</td>\n",
       "      <td>Partnerships</td>\n",
       "      <td>Simultaneous Action Selection</td>\n",
       "    </tr>\n",
       "    <tr>\n",
       "      <td>Card Game</td>\n",
       "      <td>Hand Management</td>\n",
       "      <td>Variable Player Powers</td>\n",
       "      <td>Card Drafting</td>\n",
       "      <td>Set Collection</td>\n",
       "    </tr>\n",
       "    <tr>\n",
       "      <td>Children's Game</td>\n",
       "      <td>Dice Rolling</td>\n",
       "      <td>Memory</td>\n",
       "      <td>Pattern Recognition</td>\n",
       "      <td>Hand Management</td>\n",
       "    </tr>\n",
       "    <tr>\n",
       "      <td>City Building</td>\n",
       "      <td>Tile Placement</td>\n",
       "      <td>Hand Management</td>\n",
       "      <td>Card Drafting</td>\n",
       "      <td>Set Collection</td>\n",
       "    </tr>\n",
       "    <tr>\n",
       "      <td>Civilization</td>\n",
       "      <td>Area Control / Area Influence</td>\n",
       "      <td>Variable Player Powers</td>\n",
       "      <td>Dice Rolling</td>\n",
       "      <td>Hand Management</td>\n",
       "    </tr>\n",
       "    <tr>\n",
       "      <td>Deduction</td>\n",
       "      <td>Variable Player Powers</td>\n",
       "      <td>Partnerships</td>\n",
       "      <td>Hand Management</td>\n",
       "      <td>Memory</td>\n",
       "    </tr>\n",
       "    <tr>\n",
       "      <td>Dice</td>\n",
       "      <td>Dice Rolling</td>\n",
       "      <td>Variable Player Powers</td>\n",
       "      <td>Hand Management</td>\n",
       "      <td>Press Your Luck</td>\n",
       "    </tr>\n",
       "    <tr>\n",
       "      <td>Economic</td>\n",
       "      <td>Auction/Bidding</td>\n",
       "      <td>Hand Management</td>\n",
       "      <td>Worker Placement</td>\n",
       "      <td>Area Control / Area Influence</td>\n",
       "    </tr>\n",
       "    <tr>\n",
       "      <td>Exploration</td>\n",
       "      <td>Modular Board</td>\n",
       "      <td>Dice Rolling</td>\n",
       "      <td>Variable Player Powers</td>\n",
       "      <td>Co-operative Play</td>\n",
       "    </tr>\n",
       "    <tr>\n",
       "      <td>Fantasy</td>\n",
       "      <td>Variable Player Powers</td>\n",
       "      <td>Dice Rolling</td>\n",
       "      <td>Hand Management</td>\n",
       "      <td>Modular Board</td>\n",
       "    </tr>\n",
       "    <tr>\n",
       "      <td>Fighting</td>\n",
       "      <td>Variable Player Powers</td>\n",
       "      <td>Dice Rolling</td>\n",
       "      <td>Hand Management</td>\n",
       "      <td>Modular Board</td>\n",
       "    </tr>\n",
       "    <tr>\n",
       "      <td>Horror</td>\n",
       "      <td>Variable Player Powers</td>\n",
       "      <td>Dice Rolling</td>\n",
       "      <td>Co-operative Play</td>\n",
       "      <td>Hand Management</td>\n",
       "    </tr>\n",
       "    <tr>\n",
       "      <td>Humor</td>\n",
       "      <td>Hand Management</td>\n",
       "      <td>Variable Player Powers</td>\n",
       "      <td>Dice Rolling</td>\n",
       "      <td>Take That</td>\n",
       "    </tr>\n",
       "    <tr>\n",
       "      <td>Medieval</td>\n",
       "      <td>Hand Management</td>\n",
       "      <td>Dice Rolling</td>\n",
       "      <td>Area Control / Area Influence</td>\n",
       "      <td>Variable Player Powers</td>\n",
       "    </tr>\n",
       "    <tr>\n",
       "      <td>Miniatures</td>\n",
       "      <td>Dice Rolling</td>\n",
       "      <td>Variable Player Powers</td>\n",
       "      <td>Modular Board</td>\n",
       "      <td>Action Point Allowance System</td>\n",
       "    </tr>\n",
       "    <tr>\n",
       "      <td>Nautical</td>\n",
       "      <td>Dice Rolling</td>\n",
       "      <td>Set Collection</td>\n",
       "      <td>Hand Management</td>\n",
       "      <td>Area Control / Area Influence</td>\n",
       "    </tr>\n",
       "    <tr>\n",
       "      <td>Negotiation</td>\n",
       "      <td>Variable Player Powers</td>\n",
       "      <td>Hand Management</td>\n",
       "      <td>Dice Rolling</td>\n",
       "      <td>Voting</td>\n",
       "    </tr>\n",
       "    <tr>\n",
       "      <td>Party Game</td>\n",
       "      <td>Partnerships</td>\n",
       "      <td>Variable Player Powers</td>\n",
       "      <td>Voting</td>\n",
       "      <td>Player Elimination</td>\n",
       "    </tr>\n",
       "    <tr>\n",
       "      <td>Political</td>\n",
       "      <td>Area Control / Area Influence</td>\n",
       "      <td>Hand Management</td>\n",
       "      <td>Dice Rolling</td>\n",
       "      <td>Variable Player Powers</td>\n",
       "    </tr>\n",
       "    <tr>\n",
       "      <td>Racing</td>\n",
       "      <td>Hand Management</td>\n",
       "      <td>Dice Rolling</td>\n",
       "      <td>Modular Board</td>\n",
       "      <td>Roll / Spin and Move</td>\n",
       "    </tr>\n",
       "    <tr>\n",
       "      <td>Real-time</td>\n",
       "      <td>Co-operative Play</td>\n",
       "      <td>Pattern Recognition</td>\n",
       "      <td>Dice Rolling</td>\n",
       "      <td>Variable Player Powers</td>\n",
       "    </tr>\n",
       "    <tr>\n",
       "      <td>Science Fiction</td>\n",
       "      <td>Variable Player Powers</td>\n",
       "      <td>Dice Rolling</td>\n",
       "      <td>Hand Management</td>\n",
       "      <td>Modular Board</td>\n",
       "    </tr>\n",
       "    <tr>\n",
       "      <td>Territory Building</td>\n",
       "      <td>Area Control / Area Influence</td>\n",
       "      <td>Tile Placement</td>\n",
       "      <td>Hand Management</td>\n",
       "      <td>Dice Rolling</td>\n",
       "    </tr>\n",
       "    <tr>\n",
       "      <td>Transportation</td>\n",
       "      <td>Route/Network Building</td>\n",
       "      <td>Pick-up and Deliver</td>\n",
       "      <td>Auction/Bidding</td>\n",
       "      <td>Tile Placement</td>\n",
       "    </tr>\n",
       "    <tr>\n",
       "      <td>Wargame</td>\n",
       "      <td>Dice Rolling</td>\n",
       "      <td>Hex-and-Counter</td>\n",
       "      <td>Variable Player Powers</td>\n",
       "      <td>Simulation</td>\n",
       "    </tr>\n",
       "    <tr>\n",
       "      <td>World War II</td>\n",
       "      <td>Dice Rolling</td>\n",
       "      <td>Hex-and-Counter</td>\n",
       "      <td>Simulation</td>\n",
       "      <td>Campaign / Battle Card Driven</td>\n",
       "    </tr>\n",
       "  </tbody>\n",
       "</table>\n",
       "</div>"
      ],
      "text/plain": [
       "                                                                           \\\n",
       "                                            TOP 1                   TOP 2   \n",
       "Category                                                                    \n",
       "Abstract Strategy                  Tile Placement           Grid Movement   \n",
       "Action / Dexterity                           none            Dice Rolling   \n",
       "Adventure                            Dice Rolling  Variable Player Powers   \n",
       "Ancient                              Dice Rolling         Hand Management   \n",
       "Animals                           Hand Management          Set Collection   \n",
       "Bluffing                          Hand Management  Variable Player Powers   \n",
       "Card Game                         Hand Management  Variable Player Powers   \n",
       "Children's Game                      Dice Rolling                  Memory   \n",
       "City Building                      Tile Placement         Hand Management   \n",
       "Civilization        Area Control / Area Influence  Variable Player Powers   \n",
       "Deduction                  Variable Player Powers            Partnerships   \n",
       "Dice                                 Dice Rolling  Variable Player Powers   \n",
       "Economic                          Auction/Bidding         Hand Management   \n",
       "Exploration                         Modular Board            Dice Rolling   \n",
       "Fantasy                    Variable Player Powers            Dice Rolling   \n",
       "Fighting                   Variable Player Powers            Dice Rolling   \n",
       "Horror                     Variable Player Powers            Dice Rolling   \n",
       "Humor                             Hand Management  Variable Player Powers   \n",
       "Medieval                          Hand Management            Dice Rolling   \n",
       "Miniatures                           Dice Rolling  Variable Player Powers   \n",
       "Nautical                             Dice Rolling          Set Collection   \n",
       "Negotiation                Variable Player Powers         Hand Management   \n",
       "Party Game                           Partnerships  Variable Player Powers   \n",
       "Political           Area Control / Area Influence         Hand Management   \n",
       "Racing                            Hand Management            Dice Rolling   \n",
       "Real-time                       Co-operative Play     Pattern Recognition   \n",
       "Science Fiction            Variable Player Powers            Dice Rolling   \n",
       "Territory Building  Area Control / Area Influence          Tile Placement   \n",
       "Transportation             Route/Network Building     Pick-up and Deliver   \n",
       "Wargame                              Dice Rolling         Hex-and-Counter   \n",
       "World War II                         Dice Rolling         Hex-and-Counter   \n",
       "\n",
       "                                                   \\\n",
       "                                            TOP 3   \n",
       "Category                                            \n",
       "Abstract Strategy   Area Control / Area Influence   \n",
       "Action / Dexterity            Pattern Recognition   \n",
       "Adventure                           Modular Board   \n",
       "Ancient             Area Control / Area Influence   \n",
       "Animals                              Dice Rolling   \n",
       "Bluffing                             Partnerships   \n",
       "Card Game                           Card Drafting   \n",
       "Children's Game               Pattern Recognition   \n",
       "City Building                       Card Drafting   \n",
       "Civilization                         Dice Rolling   \n",
       "Deduction                         Hand Management   \n",
       "Dice                              Hand Management   \n",
       "Economic                         Worker Placement   \n",
       "Exploration                Variable Player Powers   \n",
       "Fantasy                           Hand Management   \n",
       "Fighting                          Hand Management   \n",
       "Horror                          Co-operative Play   \n",
       "Humor                                Dice Rolling   \n",
       "Medieval            Area Control / Area Influence   \n",
       "Miniatures                          Modular Board   \n",
       "Nautical                          Hand Management   \n",
       "Negotiation                          Dice Rolling   \n",
       "Party Game                                 Voting   \n",
       "Political                            Dice Rolling   \n",
       "Racing                              Modular Board   \n",
       "Real-time                            Dice Rolling   \n",
       "Science Fiction                   Hand Management   \n",
       "Territory Building                Hand Management   \n",
       "Transportation                    Auction/Bidding   \n",
       "Wargame                    Variable Player Powers   \n",
       "World War II                           Simulation   \n",
       "\n",
       "                                                   \n",
       "                                            TOP 4  \n",
       "Category                                           \n",
       "Abstract Strategy                 Hand Management  \n",
       "Action / Dexterity         Variable Player Powers  \n",
       "Adventure                       Co-operative Play  \n",
       "Ancient                            Set Collection  \n",
       "Animals                             Card Drafting  \n",
       "Bluffing            Simultaneous Action Selection  \n",
       "Card Game                          Set Collection  \n",
       "Children's Game                   Hand Management  \n",
       "City Building                      Set Collection  \n",
       "Civilization                      Hand Management  \n",
       "Deduction                                  Memory  \n",
       "Dice                              Press Your Luck  \n",
       "Economic            Area Control / Area Influence  \n",
       "Exploration                     Co-operative Play  \n",
       "Fantasy                             Modular Board  \n",
       "Fighting                            Modular Board  \n",
       "Horror                            Hand Management  \n",
       "Humor                                   Take That  \n",
       "Medieval                   Variable Player Powers  \n",
       "Miniatures          Action Point Allowance System  \n",
       "Nautical            Area Control / Area Influence  \n",
       "Negotiation                                Voting  \n",
       "Party Game                     Player Elimination  \n",
       "Political                  Variable Player Powers  \n",
       "Racing                       Roll / Spin and Move  \n",
       "Real-time                  Variable Player Powers  \n",
       "Science Fiction                     Modular Board  \n",
       "Territory Building                   Dice Rolling  \n",
       "Transportation                     Tile Placement  \n",
       "Wargame                                Simulation  \n",
       "World War II        Campaign / Battle Card Driven  "
      ]
     },
     "execution_count": 21,
     "metadata": {},
     "output_type": "execute_result"
    },
    {
     "data": {
      "application/javascript": [
       "\n",
       "            setTimeout(function() {\n",
       "                var nbb_cell_id = 21;\n",
       "                var nbb_formatted_code = \"catmec = expsize(catsun[[\\\"Category\\\", \\\"mechanic\\\"]], \\\"mechanic\\\", \\\"Mechanic\\\")\\n\\nlbd = lambda x: x.value_counts().index[0]\\nlbd1 = lambda x: x.value_counts().index[1]\\nlbd2 = lambda x: x.value_counts().index[2]\\nlbd3 = lambda x: x.value_counts().index[3]\\nrencol = {\\\"Mechanic\\\": \\\"\\\"}\\nfor cnu in range(0, 4):\\n    rencol[\\\"<lambda_\\\" + str(cnu) + \\\">\\\"] = \\\"TOP \\\" + str(cnu + 1)\\ncatmec = catmec.groupby(\\\"Category\\\").agg([lbd, lbd1, lbd2, lbd3])\\ncatmec.rename(columns=rencol, inplace=True)\\ncatmec.loc[popcats.index.values]\";\n",
       "                var nbb_cells = Jupyter.notebook.get_cells();\n",
       "                for (var i = 0; i < nbb_cells.length; ++i) {\n",
       "                    if (nbb_cells[i].input_prompt_number == nbb_cell_id) {\n",
       "                        nbb_cells[i].set_text(nbb_formatted_code);\n",
       "                        break;\n",
       "                    }\n",
       "                }\n",
       "            }, 500);\n",
       "            "
      ],
      "text/plain": [
       "<IPython.core.display.Javascript object>"
      ]
     },
     "metadata": {},
     "output_type": "display_data"
    }
   ],
   "source": [
    "catmec = expsize(catsun[[\"Category\", \"mechanic\"]], \"mechanic\", \"Mechanic\")\n",
    "\n",
    "lbd = lambda x: x.value_counts().index[0]\n",
    "lbd1 = lambda x: x.value_counts().index[1]\n",
    "lbd2 = lambda x: x.value_counts().index[2]\n",
    "lbd3 = lambda x: x.value_counts().index[3]\n",
    "rencol = {\"Mechanic\": \"\"}\n",
    "for cnu in range(0, 4):\n",
    "    rencol[\"<lambda_\" + str(cnu) + \">\"] = \"TOP \" + str(cnu + 1)\n",
    "catmec = catmec.groupby(\"Category\").agg([lbd, lbd1, lbd2, lbd3])\n",
    "catmec.rename(columns=rencol, inplace=True)\n",
    "catmec.loc[popcats.index.values]"
   ]
  },
  {
   "cell_type": "markdown",
   "metadata": {},
   "source": [
    "## Mechanics"
   ]
  },
  {
   "cell_type": "code",
   "execution_count": 22,
   "metadata": {},
   "outputs": [
    {
     "data": {
      "text/html": [
       "<div>\n",
       "<style scoped>\n",
       "    .dataframe tbody tr th:only-of-type {\n",
       "        vertical-align: middle;\n",
       "    }\n",
       "\n",
       "    .dataframe tbody tr th {\n",
       "        vertical-align: top;\n",
       "    }\n",
       "\n",
       "    .dataframe thead th {\n",
       "        text-align: right;\n",
       "    }\n",
       "</style>\n",
       "<table border=\"1\" class=\"dataframe\">\n",
       "  <thead>\n",
       "    <tr style=\"text-align: right;\">\n",
       "      <th></th>\n",
       "      <th>rank</th>\n",
       "      <th>game_id</th>\n",
       "      <th>names</th>\n",
       "      <th>min_players</th>\n",
       "      <th>max_players</th>\n",
       "      <th>avg_time</th>\n",
       "      <th>year</th>\n",
       "      <th>avg_rating</th>\n",
       "      <th>geek_rating</th>\n",
       "      <th>age</th>\n",
       "      <th>owned</th>\n",
       "      <th>category</th>\n",
       "      <th>designer</th>\n",
       "      <th>weight</th>\n",
       "      <th>CatSize</th>\n",
       "      <th>MechSize</th>\n",
       "      <th>Mechanic</th>\n",
       "    </tr>\n",
       "  </thead>\n",
       "  <tbody>\n",
       "    <tr>\n",
       "      <td>0</td>\n",
       "      <td>1</td>\n",
       "      <td>174430</td>\n",
       "      <td>Gloomhaven</td>\n",
       "      <td>1</td>\n",
       "      <td>4</td>\n",
       "      <td>120</td>\n",
       "      <td>2017</td>\n",
       "      <td>8.98893</td>\n",
       "      <td>8.61858</td>\n",
       "      <td>12</td>\n",
       "      <td>25928</td>\n",
       "      <td>Adventure, Exploration, Fantasy, Fighting, Min...</td>\n",
       "      <td>Isaac Childres</td>\n",
       "      <td>3.7543</td>\n",
       "      <td>5</td>\n",
       "      <td>9</td>\n",
       "      <td>Action / Movement Programming</td>\n",
       "    </tr>\n",
       "    <tr>\n",
       "      <td>0</td>\n",
       "      <td>1</td>\n",
       "      <td>174430</td>\n",
       "      <td>Gloomhaven</td>\n",
       "      <td>1</td>\n",
       "      <td>4</td>\n",
       "      <td>120</td>\n",
       "      <td>2017</td>\n",
       "      <td>8.98893</td>\n",
       "      <td>8.61858</td>\n",
       "      <td>12</td>\n",
       "      <td>25928</td>\n",
       "      <td>Adventure, Exploration, Fantasy, Fighting, Min...</td>\n",
       "      <td>Isaac Childres</td>\n",
       "      <td>3.7543</td>\n",
       "      <td>5</td>\n",
       "      <td>9</td>\n",
       "      <td>Co-operative Play</td>\n",
       "    </tr>\n",
       "    <tr>\n",
       "      <td>0</td>\n",
       "      <td>1</td>\n",
       "      <td>174430</td>\n",
       "      <td>Gloomhaven</td>\n",
       "      <td>1</td>\n",
       "      <td>4</td>\n",
       "      <td>120</td>\n",
       "      <td>2017</td>\n",
       "      <td>8.98893</td>\n",
       "      <td>8.61858</td>\n",
       "      <td>12</td>\n",
       "      <td>25928</td>\n",
       "      <td>Adventure, Exploration, Fantasy, Fighting, Min...</td>\n",
       "      <td>Isaac Childres</td>\n",
       "      <td>3.7543</td>\n",
       "      <td>5</td>\n",
       "      <td>9</td>\n",
       "      <td>Grid Movement</td>\n",
       "    </tr>\n",
       "  </tbody>\n",
       "</table>\n",
       "</div>"
      ],
      "text/plain": [
       "   rank  game_id       names  min_players  max_players  avg_time  year  \\\n",
       "0     1   174430  Gloomhaven            1            4       120  2017   \n",
       "0     1   174430  Gloomhaven            1            4       120  2017   \n",
       "0     1   174430  Gloomhaven            1            4       120  2017   \n",
       "\n",
       "   avg_rating  geek_rating  age  owned  \\\n",
       "0     8.98893      8.61858   12  25928   \n",
       "0     8.98893      8.61858   12  25928   \n",
       "0     8.98893      8.61858   12  25928   \n",
       "\n",
       "                                            category        designer  weight  \\\n",
       "0  Adventure, Exploration, Fantasy, Fighting, Min...  Isaac Childres  3.7543   \n",
       "0  Adventure, Exploration, Fantasy, Fighting, Min...  Isaac Childres  3.7543   \n",
       "0  Adventure, Exploration, Fantasy, Fighting, Min...  Isaac Childres  3.7543   \n",
       "\n",
       "   CatSize  MechSize                       Mechanic  \n",
       "0        5         9  Action / Movement Programming  \n",
       "0        5         9              Co-operative Play  \n",
       "0        5         9                  Grid Movement  "
      ]
     },
     "execution_count": 22,
     "metadata": {},
     "output_type": "execute_result"
    },
    {
     "data": {
      "application/javascript": [
       "\n",
       "            setTimeout(function() {\n",
       "                var nbb_cell_id = 22;\n",
       "                var nbb_formatted_code = \"games[\\\"MechSize\\\"] = games[\\\"mechanic\\\"].apply(lambda x: len(x.split(\\\",\\\")))\\nmechsun = expsize(games, \\\"mechanic\\\", \\\"Mechanic\\\")\\nmechsun.head(3)\";\n",
       "                var nbb_cells = Jupyter.notebook.get_cells();\n",
       "                for (var i = 0; i < nbb_cells.length; ++i) {\n",
       "                    if (nbb_cells[i].input_prompt_number == nbb_cell_id) {\n",
       "                        nbb_cells[i].set_text(nbb_formatted_code);\n",
       "                        break;\n",
       "                    }\n",
       "                }\n",
       "            }, 500);\n",
       "            "
      ],
      "text/plain": [
       "<IPython.core.display.Javascript object>"
      ]
     },
     "metadata": {},
     "output_type": "display_data"
    }
   ],
   "source": [
    "games[\"MechSize\"] = games[\"mechanic\"].apply(lambda x: len(x.split(\",\")))\n",
    "mechsun = expsize(games, \"mechanic\", \"Mechanic\")\n",
    "mechsun.head(3)"
   ]
  },
  {
   "cell_type": "code",
   "execution_count": 23,
   "metadata": {},
   "outputs": [
    {
     "data": {
      "image/png": "[encoded data removed]",
      "text/plain": [
       "<Figure size 432x288 with 1 Axes>"
      ]
     },
     "metadata": {
      "needs_background": "light"
     },
     "output_type": "display_data"
    },
    {
     "data": {
      "application/javascript": [
       "\n",
       "            setTimeout(function() {\n",
       "                var nbb_cell_id = 23;\n",
       "                var nbb_formatted_code = \"mechco = mechsun.groupby(\\\"Mechanic\\\")[\\\"names\\\"].count()\\n\\nbar_ch(mechco, 10, \\\"Most used mechanics\\\", \\\"\\\", \\\"\\\", 90)\\npopcats = popcats[popcats > 150]\";\n",
       "                var nbb_cells = Jupyter.notebook.get_cells();\n",
       "                for (var i = 0; i < nbb_cells.length; ++i) {\n",
       "                    if (nbb_cells[i].input_prompt_number == nbb_cell_id) {\n",
       "                        nbb_cells[i].set_text(nbb_formatted_code);\n",
       "                        break;\n",
       "                    }\n",
       "                }\n",
       "            }, 500);\n",
       "            "
      ],
      "text/plain": [
       "<IPython.core.display.Javascript object>"
      ]
     },
     "metadata": {},
     "output_type": "display_data"
    }
   ],
   "source": [
    "mechco = mechsun.groupby(\"Mechanic\")[\"names\"].count()\n",
    "\n",
    "bar_ch(mechco, 10, \"Most used mechanics\", \"\", \"\", 90)\n",
    "popcats = popcats[popcats > 150]"
   ]
  },
  {
   "cell_type": "markdown",
   "metadata": {},
   "source": [
    "### In result\n",
    "* Most used mechanics are Dice Rolling and Hand Management"
   ]
  },
  {
   "cell_type": "markdown",
   "metadata": {},
   "source": [
    "### Amount of mechanics"
   ]
  },
  {
   "cell_type": "code",
   "execution_count": 24,
   "metadata": {},
   "outputs": [
    {
     "data": {
      "image/png": "[encoded data removed]",
      "text/plain": [
       "<Figure size 432x288 with 1 Axes>"
      ]
     },
     "metadata": {
      "needs_background": "light"
     },
     "output_type": "display_data"
    },
    {
     "data": {
      "application/javascript": [
       "\n",
       "            setTimeout(function() {\n",
       "                var nbb_cell_id = 24;\n",
       "                var nbb_formatted_code = \"mechbarc = mechsun.groupby(\\\"MechSize\\\")[\\\"names\\\"].count()\\nbar_ch(\\n    mechbarc,\\n    100,\\n    \\\"How many mechanics are used in games\\\",\\n    \\\"Mechanics\\\",\\n    \\\"\\\",\\n    0,\\n    sort=False,\\n)\\nplt.show()\";\n",
       "                var nbb_cells = Jupyter.notebook.get_cells();\n",
       "                for (var i = 0; i < nbb_cells.length; ++i) {\n",
       "                    if (nbb_cells[i].input_prompt_number == nbb_cell_id) {\n",
       "                        nbb_cells[i].set_text(nbb_formatted_code);\n",
       "                        break;\n",
       "                    }\n",
       "                }\n",
       "            }, 500);\n",
       "            "
      ],
      "text/plain": [
       "<IPython.core.display.Javascript object>"
      ]
     },
     "metadata": {},
     "output_type": "display_data"
    }
   ],
   "source": [
    "mechbarc = mechsun.groupby(\"MechSize\")[\"names\"].count()\n",
    "bar_ch(\n",
    "    mechbarc,\n",
    "    100,\n",
    "    \"How many mechanics are used in games\",\n",
    "    \"Mechanics\",\n",
    "    \"\",\n",
    "    0,\n",
    "    sort=False,\n",
    ")\n",
    "plt.show()"
   ]
  },
  {
   "cell_type": "markdown",
   "metadata": {},
   "source": [
    "### In result\n",
    "* Majority of developers create board games with 2-5 mechanics."
   ]
  },
  {
   "cell_type": "markdown",
   "metadata": {},
   "source": [
    "Geek ratiting dependence from number of mechanics. I use only amounts of mechanics where are more than 150 games."
   ]
  },
  {
   "cell_type": "code",
   "execution_count": 25,
   "metadata": {},
   "outputs": [
    {
     "data": {
      "image/png": "[encoded data removed]",
      "text/plain": [
       "<Figure size 432x288 with 1 Axes>"
      ]
     },
     "metadata": {
      "needs_background": "light"
     },
     "output_type": "display_data"
    },
    {
     "data": {
      "application/javascript": [
       "\n",
       "            setTimeout(function() {\n",
       "                var nbb_cell_id = 25;\n",
       "                var nbb_formatted_code = \"mechbarg = mechsun.groupby(\\\"MechSize\\\")[\\\"geek_rating\\\"].mean()\\nmechbarg = mechbarg[mechbarg.index < 10]\\nmngr = sns.lineplot(mechbarg.index, mechbarg, marker=\\\"s\\\", color=\\\"green\\\")\\nmngr.fill_between(mechbarg.index, mechbarg.values, color=\\\"green\\\", alpha=0.3)\\nmngr.spines[\\\"top\\\"].set_visible(False)\\nmngr.spines[\\\"right\\\"].set_visible(False)\\nmngr.set_xlabel(\\\"Number of mechanics\\\")\\nmngr.title.set_text(\\\"Geek ratiting by number of mechanics\\\")\\nmngr.set_ylabel(\\\"Geek rating\\\")\\nmngr.set_ylim([0, 7])\\nplt.show()\";\n",
       "                var nbb_cells = Jupyter.notebook.get_cells();\n",
       "                for (var i = 0; i < nbb_cells.length; ++i) {\n",
       "                    if (nbb_cells[i].input_prompt_number == nbb_cell_id) {\n",
       "                        nbb_cells[i].set_text(nbb_formatted_code);\n",
       "                        break;\n",
       "                    }\n",
       "                }\n",
       "            }, 500);\n",
       "            "
      ],
      "text/plain": [
       "<IPython.core.display.Javascript object>"
      ]
     },
     "metadata": {},
     "output_type": "display_data"
    }
   ],
   "source": [
    "mechbarg = mechsun.groupby(\"MechSize\")[\"geek_rating\"].mean()\n",
    "mechbarg = mechbarg[mechbarg.index < 10]\n",
    "mngr = sns.lineplot(mechbarg.index, mechbarg, marker=\"s\", color=\"green\")\n",
    "mngr.fill_between(mechbarg.index, mechbarg.values, color=\"green\", alpha=0.3)\n",
    "mngr.spines[\"top\"].set_visible(False)\n",
    "mngr.spines[\"right\"].set_visible(False)\n",
    "mngr.set_xlabel(\"Number of mechanics\")\n",
    "mngr.title.set_text(\"Geek ratiting by number of mechanics\")\n",
    "mngr.set_ylabel(\"Geek rating\")\n",
    "mngr.set_ylim([0, 7])\n",
    "plt.show()"
   ]
  },
  {
   "cell_type": "markdown",
   "metadata": {},
   "source": [
    "### In result\n",
    "* Creating game with 7-8 mechanics can provide better Geek rating for game. But this increase is not very significant.\n",
    "* With more than 8 mechanics game become overloaded."
   ]
  },
  {
   "cell_type": "markdown",
   "metadata": {},
   "source": [
    "### Longest and shortest mechanics"
   ]
  },
  {
   "cell_type": "code",
   "execution_count": 26,
   "metadata": {},
   "outputs": [
    {
     "data": {
      "image/png": "[encoded data removed]",
      "text/plain": [
       "<Figure size 432x288 with 1 Axes>"
      ]
     },
     "metadata": {
      "needs_background": "light"
     },
     "output_type": "display_data"
    },
    {
     "data": {
      "application/javascript": [
       "\n",
       "            setTimeout(function() {\n",
       "                var nbb_cell_id = 26;\n",
       "                var nbb_formatted_code = \"long_short = mechsun.groupby(\\\"Mechanic\\\")[\\\"avg_time\\\"].mean().sort_values(ascending=False)\\nlong_short = long_short[long_short.index != \\\"none\\\"]\\nbar_ch(long_short, 7, \\\"Longest mechanics\\\", \\\"\\\", \\\"Time\\\", 60, roundc=True, time=True)\";\n",
       "                var nbb_cells = Jupyter.notebook.get_cells();\n",
       "                for (var i = 0; i < nbb_cells.length; ++i) {\n",
       "                    if (nbb_cells[i].input_prompt_number == nbb_cell_id) {\n",
       "                        nbb_cells[i].set_text(nbb_formatted_code);\n",
       "                        break;\n",
       "                    }\n",
       "                }\n",
       "            }, 500);\n",
       "            "
      ],
      "text/plain": [
       "<IPython.core.display.Javascript object>"
      ]
     },
     "metadata": {},
     "output_type": "display_data"
    }
   ],
   "source": [
    "long_short = mechsun.groupby(\"Mechanic\")[\"avg_time\"].mean().sort_values(ascending=False)\n",
    "long_short = long_short[long_short.index != \"none\"]\n",
    "bar_ch(long_short, 7, \"Longest mechanics\", \"\", \"Time\", 60, roundc=True, time=True)"
   ]
  },
  {
   "cell_type": "code",
   "execution_count": 27,
   "metadata": {},
   "outputs": [
    {
     "data": {
      "image/png": "[encoded data removed]",
      "text/plain": [
       "<Figure size 432x288 with 1 Axes>"
      ]
     },
     "metadata": {
      "needs_background": "light"
     },
     "output_type": "display_data"
    },
    {
     "data": {
      "application/javascript": [
       "\n",
       "            setTimeout(function() {\n",
       "                var nbb_cell_id = 27;\n",
       "                var nbb_formatted_code = \"bar_ch(\\n    long_short.tail(7), 7, \\\"Shortest mechanics\\\", \\\"\\\", \\\"Time\\\", 60, roundc=True, time=True\\n)\";\n",
       "                var nbb_cells = Jupyter.notebook.get_cells();\n",
       "                for (var i = 0; i < nbb_cells.length; ++i) {\n",
       "                    if (nbb_cells[i].input_prompt_number == nbb_cell_id) {\n",
       "                        nbb_cells[i].set_text(nbb_formatted_code);\n",
       "                        break;\n",
       "                    }\n",
       "                }\n",
       "            }, 500);\n",
       "            "
      ],
      "text/plain": [
       "<IPython.core.display.Javascript object>"
      ]
     },
     "metadata": {},
     "output_type": "display_data"
    }
   ],
   "source": [
    "bar_ch(\n",
    "    long_short.tail(7), 7, \"Shortest mechanics\", \"\", \"Time\", 60, roundc=True, time=True\n",
    ")"
   ]
  },
  {
   "cell_type": "code",
   "execution_count": 28,
   "metadata": {},
   "outputs": [
    {
     "data": {
      "text/html": [
       "<div>\n",
       "<style scoped>\n",
       "    .dataframe tbody tr th:only-of-type {\n",
       "        vertical-align: middle;\n",
       "    }\n",
       "\n",
       "    .dataframe tbody tr th {\n",
       "        vertical-align: top;\n",
       "    }\n",
       "\n",
       "    .dataframe thead th {\n",
       "        text-align: right;\n",
       "    }\n",
       "</style>\n",
       "<table border=\"1\" class=\"dataframe\">\n",
       "  <thead>\n",
       "    <tr style=\"text-align: right;\">\n",
       "      <th></th>\n",
       "      <th>Time</th>\n",
       "    </tr>\n",
       "    <tr>\n",
       "      <th>Mechanic</th>\n",
       "      <th></th>\n",
       "    </tr>\n",
       "  </thead>\n",
       "  <tbody>\n",
       "    <tr>\n",
       "      <td>Hex-and-Counter</td>\n",
       "      <td>08:11</td>\n",
       "    </tr>\n",
       "    <tr>\n",
       "      <td>Chit-Pull System</td>\n",
       "      <td>07:44</td>\n",
       "    </tr>\n",
       "    <tr>\n",
       "      <td>Simulation</td>\n",
       "      <td>07:26</td>\n",
       "    </tr>\n",
       "    <tr>\n",
       "      <td>Area-Impulse</td>\n",
       "      <td>05:39</td>\n",
       "    </tr>\n",
       "    <tr>\n",
       "      <td>Secret Unit Deployment</td>\n",
       "      <td>04:01</td>\n",
       "    </tr>\n",
       "    <tr>\n",
       "      <td>Area Movement</td>\n",
       "      <td>03:28</td>\n",
       "    </tr>\n",
       "    <tr>\n",
       "      <td>Dice Rolling</td>\n",
       "      <td>03:08</td>\n",
       "    </tr>\n",
       "    <tr>\n",
       "      <td>Crayon Rail System</td>\n",
       "      <td>03:07</td>\n",
       "    </tr>\n",
       "    <tr>\n",
       "      <td>Campaign / Battle Card Driven</td>\n",
       "      <td>03:02</td>\n",
       "    </tr>\n",
       "    <tr>\n",
       "      <td>Stock Holding</td>\n",
       "      <td>02:27</td>\n",
       "    </tr>\n",
       "    <tr>\n",
       "      <td>Point to Point Movement</td>\n",
       "      <td>02:06</td>\n",
       "    </tr>\n",
       "    <tr>\n",
       "      <td>Variable Phase Order</td>\n",
       "      <td>01:57</td>\n",
       "    </tr>\n",
       "    <tr>\n",
       "      <td>Route/Network Building</td>\n",
       "      <td>01:55</td>\n",
       "    </tr>\n",
       "    <tr>\n",
       "      <td>Role Playing</td>\n",
       "      <td>01:48</td>\n",
       "    </tr>\n",
       "    <tr>\n",
       "      <td>Variable Player Powers</td>\n",
       "      <td>01:47</td>\n",
       "    </tr>\n",
       "    <tr>\n",
       "      <td>Trading</td>\n",
       "      <td>01:47</td>\n",
       "    </tr>\n",
       "    <tr>\n",
       "      <td>Action Point Allowance System</td>\n",
       "      <td>01:44</td>\n",
       "    </tr>\n",
       "    <tr>\n",
       "      <td>Co-operative Play</td>\n",
       "      <td>01:41</td>\n",
       "    </tr>\n",
       "    <tr>\n",
       "      <td>Time Track</td>\n",
       "      <td>01:40</td>\n",
       "    </tr>\n",
       "    <tr>\n",
       "      <td>Storytelling</td>\n",
       "      <td>01:40</td>\n",
       "    </tr>\n",
       "    <tr>\n",
       "      <td>Auction/Bidding</td>\n",
       "      <td>01:37</td>\n",
       "    </tr>\n",
       "    <tr>\n",
       "      <td>Pick-up and Deliver</td>\n",
       "      <td>01:37</td>\n",
       "    </tr>\n",
       "    <tr>\n",
       "      <td>Area Control / Area Influence</td>\n",
       "      <td>01:35</td>\n",
       "    </tr>\n",
       "    <tr>\n",
       "      <td>Commodity Speculation</td>\n",
       "      <td>01:34</td>\n",
       "    </tr>\n",
       "    <tr>\n",
       "      <td>Worker Placement</td>\n",
       "      <td>01:32</td>\n",
       "    </tr>\n",
       "    <tr>\n",
       "      <td>Modular Board</td>\n",
       "      <td>01:28</td>\n",
       "    </tr>\n",
       "    <tr>\n",
       "      <td>Voting</td>\n",
       "      <td>01:24</td>\n",
       "    </tr>\n",
       "    <tr>\n",
       "      <td>Action / Movement Programming</td>\n",
       "      <td>01:22</td>\n",
       "    </tr>\n",
       "    <tr>\n",
       "      <td>Tile Placement</td>\n",
       "      <td>01:17</td>\n",
       "    </tr>\n",
       "    <tr>\n",
       "      <td>Grid Movement</td>\n",
       "      <td>01:15</td>\n",
       "    </tr>\n",
       "    <tr>\n",
       "      <td>Partnerships</td>\n",
       "      <td>01:15</td>\n",
       "    </tr>\n",
       "    <tr>\n",
       "      <td>Deck / Pool Building</td>\n",
       "      <td>01:09</td>\n",
       "    </tr>\n",
       "    <tr>\n",
       "      <td>Rock-Paper-Scissors</td>\n",
       "      <td>01:09</td>\n",
       "    </tr>\n",
       "    <tr>\n",
       "      <td>Simultaneous Action Selection</td>\n",
       "      <td>01:08</td>\n",
       "    </tr>\n",
       "    <tr>\n",
       "      <td>Roll / Spin and Move</td>\n",
       "      <td>01:08</td>\n",
       "    </tr>\n",
       "    <tr>\n",
       "      <td>Card Drafting</td>\n",
       "      <td>01:07</td>\n",
       "    </tr>\n",
       "    <tr>\n",
       "      <td>Player Elimination</td>\n",
       "      <td>01:02</td>\n",
       "    </tr>\n",
       "    <tr>\n",
       "      <td>Hand Management</td>\n",
       "      <td>01:02</td>\n",
       "    </tr>\n",
       "    <tr>\n",
       "      <td>Line Drawing</td>\n",
       "      <td>00:56</td>\n",
       "    </tr>\n",
       "    <tr>\n",
       "      <td>Set Collection</td>\n",
       "      <td>00:56</td>\n",
       "    </tr>\n",
       "    <tr>\n",
       "      <td>Singing</td>\n",
       "      <td>00:53</td>\n",
       "    </tr>\n",
       "    <tr>\n",
       "      <td>Paper-and-Pencil</td>\n",
       "      <td>00:52</td>\n",
       "    </tr>\n",
       "    <tr>\n",
       "      <td>Take That</td>\n",
       "      <td>00:52</td>\n",
       "    </tr>\n",
       "    <tr>\n",
       "      <td>Area Enclosure</td>\n",
       "      <td>00:50</td>\n",
       "    </tr>\n",
       "    <tr>\n",
       "      <td>Betting/Wagering</td>\n",
       "      <td>00:47</td>\n",
       "    </tr>\n",
       "    <tr>\n",
       "      <td>Press Your Luck</td>\n",
       "      <td>00:46</td>\n",
       "    </tr>\n",
       "    <tr>\n",
       "      <td>Memory</td>\n",
       "      <td>00:41</td>\n",
       "    </tr>\n",
       "    <tr>\n",
       "      <td>Trick-taking</td>\n",
       "      <td>00:40</td>\n",
       "    </tr>\n",
       "    <tr>\n",
       "      <td>Acting</td>\n",
       "      <td>00:37</td>\n",
       "    </tr>\n",
       "    <tr>\n",
       "      <td>Pattern Building</td>\n",
       "      <td>00:36</td>\n",
       "    </tr>\n",
       "    <tr>\n",
       "      <td>Pattern Recognition</td>\n",
       "      <td>00:27</td>\n",
       "    </tr>\n",
       "  </tbody>\n",
       "</table>\n",
       "</div>"
      ],
      "text/plain": [
       "                                Time\n",
       "Mechanic                            \n",
       "Hex-and-Counter                08:11\n",
       "Chit-Pull System               07:44\n",
       "Simulation                     07:26\n",
       "Area-Impulse                   05:39\n",
       "Secret Unit Deployment         04:01\n",
       "Area Movement                  03:28\n",
       "Dice Rolling                   03:08\n",
       "Crayon Rail System             03:07\n",
       "Campaign / Battle Card Driven  03:02\n",
       "Stock Holding                  02:27\n",
       "Point to Point Movement        02:06\n",
       "Variable Phase Order           01:57\n",
       "Route/Network Building         01:55\n",
       "Role Playing                   01:48\n",
       "Variable Player Powers         01:47\n",
       "Trading                        01:47\n",
       "Action Point Allowance System  01:44\n",
       "Co-operative Play              01:41\n",
       "Time Track                     01:40\n",
       "Storytelling                   01:40\n",
       "Auction/Bidding                01:37\n",
       "Pick-up and Deliver            01:37\n",
       "Area Control / Area Influence  01:35\n",
       "Commodity Speculation          01:34\n",
       "Worker Placement               01:32\n",
       "Modular Board                  01:28\n",
       "Voting                         01:24\n",
       "Action / Movement Programming  01:22\n",
       "Tile Placement                 01:17\n",
       "Grid Movement                  01:15\n",
       "Partnerships                   01:15\n",
       "Deck / Pool Building           01:09\n",
       "Rock-Paper-Scissors            01:09\n",
       "Simultaneous Action Selection  01:08\n",
       "Roll / Spin and Move           01:08\n",
       "Card Drafting                  01:07\n",
       "Player Elimination             01:02\n",
       "Hand Management                01:02\n",
       "Line Drawing                   00:56\n",
       "Set Collection                 00:56\n",
       "Singing                        00:53\n",
       "Paper-and-Pencil               00:52\n",
       "Take That                      00:52\n",
       "Area Enclosure                 00:50\n",
       "Betting/Wagering               00:47\n",
       "Press Your Luck                00:46\n",
       "Memory                         00:41\n",
       "Trick-taking                   00:40\n",
       "Acting                         00:37\n",
       "Pattern Building               00:36\n",
       "Pattern Recognition            00:27"
      ]
     },
     "execution_count": 28,
     "metadata": {},
     "output_type": "execute_result"
    },
    {
     "data": {
      "application/javascript": [
       "\n",
       "            setTimeout(function() {\n",
       "                var nbb_cell_id = 28;\n",
       "                var nbb_formatted_code = \"long_short = long_short.apply(lambda x: pd.to_datetime(x, unit=\\\"m\\\").strftime(\\\"%H:%M\\\"))\\nlong_short = pd.DataFrame(long_short)\\nlong_short.rename(columns={\\\"avg_time\\\": \\\"Time\\\"}, inplace=True)\\nlong_short\";\n",
       "                var nbb_cells = Jupyter.notebook.get_cells();\n",
       "                for (var i = 0; i < nbb_cells.length; ++i) {\n",
       "                    if (nbb_cells[i].input_prompt_number == nbb_cell_id) {\n",
       "                        nbb_cells[i].set_text(nbb_formatted_code);\n",
       "                        break;\n",
       "                    }\n",
       "                }\n",
       "            }, 500);\n",
       "            "
      ],
      "text/plain": [
       "<IPython.core.display.Javascript object>"
      ]
     },
     "metadata": {},
     "output_type": "display_data"
    }
   ],
   "source": [
    "long_short = long_short.apply(lambda x: pd.to_datetime(x, unit=\"m\").strftime(\"%H:%M\"))\n",
    "long_short = pd.DataFrame(long_short)\n",
    "long_short.rename(columns={\"avg_time\": \"Time\"}, inplace=True)\n",
    "long_short"
   ]
  },
  {
   "cell_type": "markdown",
   "metadata": {},
   "source": [
    "### In result\n",
    "* Shortest mechanics are mechanics with patterns (Pattern Building, Pattern Recognition) \n",
    "* Longest mechanics include creation of unique game experience (Hex-and-Counter, Area-Impulse, Area Movement)"
   ]
  },
  {
   "cell_type": "markdown",
   "metadata": {},
   "source": [
    "### Mechanics by amount of players"
   ]
  },
  {
   "cell_type": "code",
   "execution_count": 29,
   "metadata": {},
   "outputs": [
    {
     "data": {
      "image/png": "[encoded data removed]",
      "text/plain": [
       "<Figure size 432x288 with 1 Axes>"
      ]
     },
     "metadata": {
      "needs_background": "light"
     },
     "output_type": "display_data"
    },
    {
     "data": {
      "application/javascript": [
       "\n",
       "            setTimeout(function() {\n",
       "                var nbb_cell_id = 29;\n",
       "                var nbb_formatted_code = \"mechplay = (\\n    mechsun.groupby(\\\"Mechanic\\\")[\\\"max_players\\\"].mean().sort_values(ascending=False)\\n)\\nbar_ch(\\n    mechplay, 7, \\\"Mechanics for many players\\\", \\\"\\\", \\\"Number of players\\\", 60, roundc=True\\n)\";\n",
       "                var nbb_cells = Jupyter.notebook.get_cells();\n",
       "                for (var i = 0; i < nbb_cells.length; ++i) {\n",
       "                    if (nbb_cells[i].input_prompt_number == nbb_cell_id) {\n",
       "                        nbb_cells[i].set_text(nbb_formatted_code);\n",
       "                        break;\n",
       "                    }\n",
       "                }\n",
       "            }, 500);\n",
       "            "
      ],
      "text/plain": [
       "<IPython.core.display.Javascript object>"
      ]
     },
     "metadata": {},
     "output_type": "display_data"
    }
   ],
   "source": [
    "mechplay = (\n",
    "    mechsun.groupby(\"Mechanic\")[\"max_players\"].mean().sort_values(ascending=False)\n",
    ")\n",
    "bar_ch(\n",
    "    mechplay, 7, \"Mechanics for many players\", \"\", \"Number of players\", 60, roundc=True\n",
    ")"
   ]
  },
  {
   "cell_type": "code",
   "execution_count": 30,
   "metadata": {},
   "outputs": [
    {
     "data": {
      "image/png": "[encoded data removed]",
      "text/plain": [
       "<Figure size 432x288 with 1 Axes>"
      ]
     },
     "metadata": {
      "needs_background": "light"
     },
     "output_type": "display_data"
    },
    {
     "data": {
      "application/javascript": [
       "\n",
       "            setTimeout(function() {\n",
       "                var nbb_cell_id = 30;\n",
       "                var nbb_formatted_code = \"minmec = mechplay.tail(7)\\nbar_ch(\\n    minmec, 8, \\\"Mechanics for small groups\\\", \\\"\\\", \\\"Number of players\\\", 60, roundc=True\\n)\";\n",
       "                var nbb_cells = Jupyter.notebook.get_cells();\n",
       "                for (var i = 0; i < nbb_cells.length; ++i) {\n",
       "                    if (nbb_cells[i].input_prompt_number == nbb_cell_id) {\n",
       "                        nbb_cells[i].set_text(nbb_formatted_code);\n",
       "                        break;\n",
       "                    }\n",
       "                }\n",
       "            }, 500);\n",
       "            "
      ],
      "text/plain": [
       "<IPython.core.display.Javascript object>"
      ]
     },
     "metadata": {},
     "output_type": "display_data"
    }
   ],
   "source": [
    "minmec = mechplay.tail(7)\n",
    "bar_ch(\n",
    "    minmec, 8, \"Mechanics for small groups\", \"\", \"Number of players\", 60, roundc=True\n",
    ")"
   ]
  },
  {
   "cell_type": "code",
   "execution_count": 31,
   "metadata": {},
   "outputs": [
    {
     "data": {
      "text/html": [
       "<div>\n",
       "<style scoped>\n",
       "    .dataframe tbody tr th:only-of-type {\n",
       "        vertical-align: middle;\n",
       "    }\n",
       "\n",
       "    .dataframe tbody tr th {\n",
       "        vertical-align: top;\n",
       "    }\n",
       "\n",
       "    .dataframe thead th {\n",
       "        text-align: right;\n",
       "    }\n",
       "</style>\n",
       "<table border=\"1\" class=\"dataframe\">\n",
       "  <thead>\n",
       "    <tr style=\"text-align: right;\">\n",
       "      <th></th>\n",
       "      <th>Players</th>\n",
       "    </tr>\n",
       "    <tr>\n",
       "      <th>Mechanic</th>\n",
       "      <th></th>\n",
       "    </tr>\n",
       "  </thead>\n",
       "  <tbody>\n",
       "    <tr>\n",
       "      <td>Acting</td>\n",
       "      <td>16</td>\n",
       "    </tr>\n",
       "    <tr>\n",
       "      <td>Paper-and-Pencil</td>\n",
       "      <td>15</td>\n",
       "    </tr>\n",
       "    <tr>\n",
       "      <td>Singing</td>\n",
       "      <td>13</td>\n",
       "    </tr>\n",
       "    <tr>\n",
       "      <td>Line Drawing</td>\n",
       "      <td>11</td>\n",
       "    </tr>\n",
       "    <tr>\n",
       "      <td>Voting</td>\n",
       "      <td>10</td>\n",
       "    </tr>\n",
       "    <tr>\n",
       "      <td>Role Playing</td>\n",
       "      <td>9</td>\n",
       "    </tr>\n",
       "    <tr>\n",
       "      <td>Partnerships</td>\n",
       "      <td>8</td>\n",
       "    </tr>\n",
       "    <tr>\n",
       "      <td>Storytelling</td>\n",
       "      <td>8</td>\n",
       "    </tr>\n",
       "    <tr>\n",
       "      <td>Pattern Recognition</td>\n",
       "      <td>7</td>\n",
       "    </tr>\n",
       "    <tr>\n",
       "      <td>Player Elimination</td>\n",
       "      <td>7</td>\n",
       "    </tr>\n",
       "    <tr>\n",
       "      <td>Action / Movement Programming</td>\n",
       "      <td>7</td>\n",
       "    </tr>\n",
       "    <tr>\n",
       "      <td>Press Your Luck</td>\n",
       "      <td>7</td>\n",
       "    </tr>\n",
       "    <tr>\n",
       "      <td>Roll / Spin and Move</td>\n",
       "      <td>7</td>\n",
       "    </tr>\n",
       "    <tr>\n",
       "      <td>Simultaneous Action Selection</td>\n",
       "      <td>6</td>\n",
       "    </tr>\n",
       "    <tr>\n",
       "      <td>Betting/Wagering</td>\n",
       "      <td>6</td>\n",
       "    </tr>\n",
       "    <tr>\n",
       "      <td>Memory</td>\n",
       "      <td>6</td>\n",
       "    </tr>\n",
       "    <tr>\n",
       "      <td>Crayon Rail System</td>\n",
       "      <td>6</td>\n",
       "    </tr>\n",
       "    <tr>\n",
       "      <td>Variable Player Powers</td>\n",
       "      <td>5</td>\n",
       "    </tr>\n",
       "    <tr>\n",
       "      <td>Stock Holding</td>\n",
       "      <td>5</td>\n",
       "    </tr>\n",
       "    <tr>\n",
       "      <td>Co-operative Play</td>\n",
       "      <td>5</td>\n",
       "    </tr>\n",
       "    <tr>\n",
       "      <td>Pattern Building</td>\n",
       "      <td>5</td>\n",
       "    </tr>\n",
       "    <tr>\n",
       "      <td>Trick-taking</td>\n",
       "      <td>5</td>\n",
       "    </tr>\n",
       "    <tr>\n",
       "      <td>Trading</td>\n",
       "      <td>5</td>\n",
       "    </tr>\n",
       "    <tr>\n",
       "      <td>Auction/Bidding</td>\n",
       "      <td>5</td>\n",
       "    </tr>\n",
       "    <tr>\n",
       "      <td>Take That</td>\n",
       "      <td>5</td>\n",
       "    </tr>\n",
       "    <tr>\n",
       "      <td>Commodity Speculation</td>\n",
       "      <td>5</td>\n",
       "    </tr>\n",
       "    <tr>\n",
       "      <td>Route/Network Building</td>\n",
       "      <td>5</td>\n",
       "    </tr>\n",
       "    <tr>\n",
       "      <td>Modular Board</td>\n",
       "      <td>5</td>\n",
       "    </tr>\n",
       "    <tr>\n",
       "      <td>Dice Rolling</td>\n",
       "      <td>5</td>\n",
       "    </tr>\n",
       "    <tr>\n",
       "      <td>Card Drafting</td>\n",
       "      <td>5</td>\n",
       "    </tr>\n",
       "    <tr>\n",
       "      <td>Set Collection</td>\n",
       "      <td>5</td>\n",
       "    </tr>\n",
       "    <tr>\n",
       "      <td>Pick-up and Deliver</td>\n",
       "      <td>5</td>\n",
       "    </tr>\n",
       "    <tr>\n",
       "      <td>Grid Movement</td>\n",
       "      <td>5</td>\n",
       "    </tr>\n",
       "    <tr>\n",
       "      <td>Hand Management</td>\n",
       "      <td>5</td>\n",
       "    </tr>\n",
       "    <tr>\n",
       "      <td>Variable Phase Order</td>\n",
       "      <td>5</td>\n",
       "    </tr>\n",
       "    <tr>\n",
       "      <td>Tile Placement</td>\n",
       "      <td>4</td>\n",
       "    </tr>\n",
       "    <tr>\n",
       "      <td>Worker Placement</td>\n",
       "      <td>4</td>\n",
       "    </tr>\n",
       "    <tr>\n",
       "      <td>Deck / Pool Building</td>\n",
       "      <td>4</td>\n",
       "    </tr>\n",
       "    <tr>\n",
       "      <td>Rock-Paper-Scissors</td>\n",
       "      <td>4</td>\n",
       "    </tr>\n",
       "    <tr>\n",
       "      <td>Area Movement</td>\n",
       "      <td>4</td>\n",
       "    </tr>\n",
       "    <tr>\n",
       "      <td>Area Control / Area Influence</td>\n",
       "      <td>4</td>\n",
       "    </tr>\n",
       "    <tr>\n",
       "      <td>Time Track</td>\n",
       "      <td>4</td>\n",
       "    </tr>\n",
       "    <tr>\n",
       "      <td>Point to Point Movement</td>\n",
       "      <td>4</td>\n",
       "    </tr>\n",
       "    <tr>\n",
       "      <td>Action Point Allowance System</td>\n",
       "      <td>4</td>\n",
       "    </tr>\n",
       "    <tr>\n",
       "      <td>Simulation</td>\n",
       "      <td>4</td>\n",
       "    </tr>\n",
       "    <tr>\n",
       "      <td>Area Enclosure</td>\n",
       "      <td>4</td>\n",
       "    </tr>\n",
       "    <tr>\n",
       "      <td>Secret Unit Deployment</td>\n",
       "      <td>4</td>\n",
       "    </tr>\n",
       "    <tr>\n",
       "      <td>Hex-and-Counter</td>\n",
       "      <td>3</td>\n",
       "    </tr>\n",
       "    <tr>\n",
       "      <td>Campaign / Battle Card Driven</td>\n",
       "      <td>3</td>\n",
       "    </tr>\n",
       "    <tr>\n",
       "      <td>Area-Impulse</td>\n",
       "      <td>3</td>\n",
       "    </tr>\n",
       "    <tr>\n",
       "      <td>Chit-Pull System</td>\n",
       "      <td>3</td>\n",
       "    </tr>\n",
       "  </tbody>\n",
       "</table>\n",
       "</div>"
      ],
      "text/plain": [
       "                               Players\n",
       "Mechanic                              \n",
       "Acting                              16\n",
       "Paper-and-Pencil                    15\n",
       "Singing                             13\n",
       "Line Drawing                        11\n",
       "Voting                              10\n",
       "Role Playing                         9\n",
       "Partnerships                         8\n",
       "Storytelling                         8\n",
       "Pattern Recognition                  7\n",
       "Player Elimination                   7\n",
       "Action / Movement Programming        7\n",
       "Press Your Luck                      7\n",
       "Roll / Spin and Move                 7\n",
       "Simultaneous Action Selection        6\n",
       "Betting/Wagering                     6\n",
       "Memory                               6\n",
       "Crayon Rail System                   6\n",
       "Variable Player Powers               5\n",
       "Stock Holding                        5\n",
       "Co-operative Play                    5\n",
       "Pattern Building                     5\n",
       "Trick-taking                         5\n",
       "Trading                              5\n",
       "Auction/Bidding                      5\n",
       "Take That                            5\n",
       "Commodity Speculation                5\n",
       "Route/Network Building               5\n",
       "Modular Board                        5\n",
       "Dice Rolling                         5\n",
       "Card Drafting                        5\n",
       "Set Collection                       5\n",
       "Pick-up and Deliver                  5\n",
       "Grid Movement                        5\n",
       "Hand Management                      5\n",
       "Variable Phase Order                 5\n",
       "Tile Placement                       4\n",
       "Worker Placement                     4\n",
       "Deck / Pool Building                 4\n",
       "Rock-Paper-Scissors                  4\n",
       "Area Movement                        4\n",
       "Area Control / Area Influence        4\n",
       "Time Track                           4\n",
       "Point to Point Movement              4\n",
       "Action Point Allowance System        4\n",
       "Simulation                           4\n",
       "Area Enclosure                       4\n",
       "Secret Unit Deployment               4\n",
       "Hex-and-Counter                      3\n",
       "Campaign / Battle Card Driven        3\n",
       "Area-Impulse                         3\n",
       "Chit-Pull System                     3"
      ]
     },
     "execution_count": 31,
     "metadata": {},
     "output_type": "execute_result"
    },
    {
     "data": {
      "application/javascript": [
       "\n",
       "            setTimeout(function() {\n",
       "                var nbb_cell_id = 31;\n",
       "                var nbb_formatted_code = \"mechplc = pd.DataFrame(mechplay)\\nmechplc.rename(columns={\\\"max_players\\\": \\\"Players\\\"}, inplace=True)\\nmechplc[\\\"Players\\\"] = mechplc[\\\"Players\\\"].apply(lambda x: round(x))\\nmechplc = mechplc[mechplc.index != \\\"none\\\"]\\nmechplc\";\n",
       "                var nbb_cells = Jupyter.notebook.get_cells();\n",
       "                for (var i = 0; i < nbb_cells.length; ++i) {\n",
       "                    if (nbb_cells[i].input_prompt_number == nbb_cell_id) {\n",
       "                        nbb_cells[i].set_text(nbb_formatted_code);\n",
       "                        break;\n",
       "                    }\n",
       "                }\n",
       "            }, 500);\n",
       "            "
      ],
      "text/plain": [
       "<IPython.core.display.Javascript object>"
      ]
     },
     "metadata": {},
     "output_type": "display_data"
    }
   ],
   "source": [
    "mechplc = pd.DataFrame(mechplay)\n",
    "mechplc.rename(columns={\"max_players\": \"Players\"}, inplace=True)\n",
    "mechplc[\"Players\"] = mechplc[\"Players\"].apply(lambda x: round(x))\n",
    "mechplc = mechplc[mechplc.index != \"none\"]\n",
    "mechplc"
   ]
  },
  {
   "cell_type": "markdown",
   "metadata": {},
   "source": [
    "### In result:\n",
    "* Most mechanics are used for 4-5 players games.\n",
    "* Acting and Paper-and-Pencil mechanics are good for teams with 15+ members.\n",
    "* Only Chit-Pull System mechanic is mostly used in duel games."
   ]
  },
  {
   "cell_type": "markdown",
   "metadata": {},
   "source": [
    "## Designers"
   ]
  },
  {
   "cell_type": "code",
   "execution_count": 32,
   "metadata": {},
   "outputs": [
    {
     "data": {
      "text/html": [
       "<div>\n",
       "<style scoped>\n",
       "    .dataframe tbody tr th:only-of-type {\n",
       "        vertical-align: middle;\n",
       "    }\n",
       "\n",
       "    .dataframe tbody tr th {\n",
       "        vertical-align: top;\n",
       "    }\n",
       "\n",
       "    .dataframe thead th {\n",
       "        text-align: right;\n",
       "    }\n",
       "</style>\n",
       "<table border=\"1\" class=\"dataframe\">\n",
       "  <thead>\n",
       "    <tr style=\"text-align: right;\">\n",
       "      <th></th>\n",
       "      <th>rank</th>\n",
       "      <th>game_id</th>\n",
       "      <th>names</th>\n",
       "      <th>min_players</th>\n",
       "      <th>max_players</th>\n",
       "      <th>avg_time</th>\n",
       "      <th>year</th>\n",
       "      <th>avg_rating</th>\n",
       "      <th>geek_rating</th>\n",
       "      <th>age</th>\n",
       "      <th>mechanic</th>\n",
       "      <th>owned</th>\n",
       "      <th>category</th>\n",
       "      <th>weight</th>\n",
       "      <th>CatSize</th>\n",
       "      <th>MechSize</th>\n",
       "      <th>GroupSize</th>\n",
       "      <th>Designer</th>\n",
       "    </tr>\n",
       "  </thead>\n",
       "  <tbody>\n",
       "    <tr>\n",
       "      <td>0</td>\n",
       "      <td>1</td>\n",
       "      <td>174430</td>\n",
       "      <td>Gloomhaven</td>\n",
       "      <td>1</td>\n",
       "      <td>4</td>\n",
       "      <td>120</td>\n",
       "      <td>2017</td>\n",
       "      <td>8.98893</td>\n",
       "      <td>8.61858</td>\n",
       "      <td>12</td>\n",
       "      <td>Action / Movement Programming, Co-operative Pl...</td>\n",
       "      <td>25928</td>\n",
       "      <td>Adventure, Exploration, Fantasy, Fighting, Min...</td>\n",
       "      <td>3.7543</td>\n",
       "      <td>5</td>\n",
       "      <td>9</td>\n",
       "      <td>1</td>\n",
       "      <td>Isaac Childres</td>\n",
       "    </tr>\n",
       "    <tr>\n",
       "      <td>1</td>\n",
       "      <td>2</td>\n",
       "      <td>161936</td>\n",
       "      <td>Pandemic Legacy: Season 1</td>\n",
       "      <td>2</td>\n",
       "      <td>4</td>\n",
       "      <td>60</td>\n",
       "      <td>2015</td>\n",
       "      <td>8.66140</td>\n",
       "      <td>8.50163</td>\n",
       "      <td>13</td>\n",
       "      <td>Action Point Allowance System, Co-operative Pl...</td>\n",
       "      <td>41605</td>\n",
       "      <td>Environmental, Medical</td>\n",
       "      <td>2.8210</td>\n",
       "      <td>2</td>\n",
       "      <td>7</td>\n",
       "      <td>2</td>\n",
       "      <td>Rob Daviau</td>\n",
       "    </tr>\n",
       "    <tr>\n",
       "      <td>1</td>\n",
       "      <td>2</td>\n",
       "      <td>161936</td>\n",
       "      <td>Pandemic Legacy: Season 1</td>\n",
       "      <td>2</td>\n",
       "      <td>4</td>\n",
       "      <td>60</td>\n",
       "      <td>2015</td>\n",
       "      <td>8.66140</td>\n",
       "      <td>8.50163</td>\n",
       "      <td>13</td>\n",
       "      <td>Action Point Allowance System, Co-operative Pl...</td>\n",
       "      <td>41605</td>\n",
       "      <td>Environmental, Medical</td>\n",
       "      <td>2.8210</td>\n",
       "      <td>2</td>\n",
       "      <td>7</td>\n",
       "      <td>2</td>\n",
       "      <td>Matt Leacock</td>\n",
       "    </tr>\n",
       "  </tbody>\n",
       "</table>\n",
       "</div>"
      ],
      "text/plain": [
       "   rank  game_id                      names  min_players  max_players  \\\n",
       "0     1   174430                 Gloomhaven            1            4   \n",
       "1     2   161936  Pandemic Legacy: Season 1            2            4   \n",
       "1     2   161936  Pandemic Legacy: Season 1            2            4   \n",
       "\n",
       "   avg_time  year  avg_rating  geek_rating  age  \\\n",
       "0       120  2017     8.98893      8.61858   12   \n",
       "1        60  2015     8.66140      8.50163   13   \n",
       "1        60  2015     8.66140      8.50163   13   \n",
       "\n",
       "                                            mechanic  owned  \\\n",
       "0  Action / Movement Programming, Co-operative Pl...  25928   \n",
       "1  Action Point Allowance System, Co-operative Pl...  41605   \n",
       "1  Action Point Allowance System, Co-operative Pl...  41605   \n",
       "\n",
       "                                            category  weight  CatSize  \\\n",
       "0  Adventure, Exploration, Fantasy, Fighting, Min...  3.7543        5   \n",
       "1                             Environmental, Medical  2.8210        2   \n",
       "1                             Environmental, Medical  2.8210        2   \n",
       "\n",
       "   MechSize  GroupSize        Designer  \n",
       "0         9          1  Isaac Childres  \n",
       "1         7          2      Rob Daviau  \n",
       "1         7          2    Matt Leacock  "
      ]
     },
     "execution_count": 32,
     "metadata": {},
     "output_type": "execute_result"
    },
    {
     "data": {
      "application/javascript": [
       "\n",
       "            setTimeout(function() {\n",
       "                var nbb_cell_id = 32;\n",
       "                var nbb_formatted_code = \"games[\\\"GroupSize\\\"] = games[\\\"designer\\\"].apply(lambda x: len(x.split(\\\",\\\")))\\ngroupsun = expsize(games, \\\"designer\\\", \\\"Designer\\\")\\ngroupsun.head(3)\";\n",
       "                var nbb_cells = Jupyter.notebook.get_cells();\n",
       "                for (var i = 0; i < nbb_cells.length; ++i) {\n",
       "                    if (nbb_cells[i].input_prompt_number == nbb_cell_id) {\n",
       "                        nbb_cells[i].set_text(nbb_formatted_code);\n",
       "                        break;\n",
       "                    }\n",
       "                }\n",
       "            }, 500);\n",
       "            "
      ],
      "text/plain": [
       "<IPython.core.display.Javascript object>"
      ]
     },
     "metadata": {},
     "output_type": "display_data"
    }
   ],
   "source": [
    "games[\"GroupSize\"] = games[\"designer\"].apply(lambda x: len(x.split(\",\")))\n",
    "groupsun = expsize(games, \"designer\", \"Designer\")\n",
    "groupsun.head(3)"
   ]
  },
  {
   "cell_type": "code",
   "execution_count": 33,
   "metadata": {},
   "outputs": [
    {
     "data": {
      "image/png": "[encoded data removed]",
      "text/plain": [
       "<Figure size 432x288 with 1 Axes>"
      ]
     },
     "metadata": {
      "needs_background": "light"
     },
     "output_type": "display_data"
    },
    {
     "data": {
      "application/javascript": [
       "\n",
       "            setTimeout(function() {\n",
       "                var nbb_cell_id = 33;\n",
       "                var nbb_formatted_code = \"teamsz = games.groupby(\\\"GroupSize\\\")[\\\"names\\\"].count()\\nbar_ch(teamsz, 100, \\\"Size of designers team\\\", \\\"\\\", \\\"\\\", 0, sort=False)\";\n",
       "                var nbb_cells = Jupyter.notebook.get_cells();\n",
       "                for (var i = 0; i < nbb_cells.length; ++i) {\n",
       "                    if (nbb_cells[i].input_prompt_number == nbb_cell_id) {\n",
       "                        nbb_cells[i].set_text(nbb_formatted_code);\n",
       "                        break;\n",
       "                    }\n",
       "                }\n",
       "            }, 500);\n",
       "            "
      ],
      "text/plain": [
       "<IPython.core.display.Javascript object>"
      ]
     },
     "metadata": {},
     "output_type": "display_data"
    }
   ],
   "source": [
    "teamsz = games.groupby(\"GroupSize\")[\"names\"].count()\n",
    "bar_ch(teamsz, 100, \"Size of designers team\", \"\", \"\", 0, sort=False)"
   ]
  },
  {
   "cell_type": "markdown",
   "metadata": {},
   "source": [
    "### In result\n",
    "* Board games designing is mostly done alone."
   ]
  },
  {
   "cell_type": "code",
   "execution_count": 34,
   "metadata": {},
   "outputs": [
    {
     "data": {
      "image/png": "[encoded data removed]",
      "text/plain": [
       "<Figure size 432x288 with 1 Axes>"
      ]
     },
     "metadata": {
      "needs_background": "light"
     },
     "output_type": "display_data"
    },
    {
     "data": {
      "application/javascript": [
       "\n",
       "            setTimeout(function() {\n",
       "                var nbb_cell_id = 34;\n",
       "                var nbb_formatted_code = \"desprod = groupsun.groupby(\\\"Designer\\\")[\\\"names\\\"].count()\\ntopdes = desprod.sort_values(ascending=False).drop(labels=[\\\"(Uncredited)\\\"])\\n\\ndesbr = sns.barplot(topdes.head(10).index, topdes.head(10), color=\\\"#8C96DB\\\")\\ndesbr.spines[\\\"top\\\"].set_visible(False)\\ndesbr.spines[\\\"right\\\"].set_visible(False)\\ndesbr.title.set_text(\\\"Top 10 designers by number of developed games\\\")\\ndesbr.set_xlabel(\\\"\\\")\\ndesbr.set_ylabel(\\\"\\\")\\nypos = 0\\nfor rect in topdes.head(10):\\n    plt.text(ypos, rect, s=rect, ha=\\\"center\\\", va=\\\"bottom\\\")\\n    ypos += 1\\nplt.xticks(rotation=60)\\nplt.show()\";\n",
       "                var nbb_cells = Jupyter.notebook.get_cells();\n",
       "                for (var i = 0; i < nbb_cells.length; ++i) {\n",
       "                    if (nbb_cells[i].input_prompt_number == nbb_cell_id) {\n",
       "                        nbb_cells[i].set_text(nbb_formatted_code);\n",
       "                        break;\n",
       "                    }\n",
       "                }\n",
       "            }, 500);\n",
       "            "
      ],
      "text/plain": [
       "<IPython.core.display.Javascript object>"
      ]
     },
     "metadata": {},
     "output_type": "display_data"
    }
   ],
   "source": [
    "desprod = groupsun.groupby(\"Designer\")[\"names\"].count()\n",
    "topdes = desprod.sort_values(ascending=False).drop(labels=[\"(Uncredited)\"])\n",
    "\n",
    "desbr = sns.barplot(topdes.head(10).index, topdes.head(10), color=\"#8C96DB\")\n",
    "desbr.spines[\"top\"].set_visible(False)\n",
    "desbr.spines[\"right\"].set_visible(False)\n",
    "desbr.title.set_text(\"Top 10 designers by number of developed games\")\n",
    "desbr.set_xlabel(\"\")\n",
    "desbr.set_ylabel(\"\")\n",
    "ypos = 0\n",
    "for rect in topdes.head(10):\n",
    "    plt.text(ypos, rect, s=rect, ha=\"center\", va=\"bottom\")\n",
    "    ypos += 1\n",
    "plt.xticks(rotation=60)\n",
    "plt.show()"
   ]
  },
  {
   "cell_type": "markdown",
   "metadata": {},
   "source": [
    "### Fresh man's vs experienced designers\n",
    "This pie charts compares number of designers who developed only one board game and regular this area workers (more than one game). Second pie chart compares same things but only for designers whose games sold better than avearge."
   ]
  },
  {
   "cell_type": "code",
   "execution_count": 35,
   "metadata": {},
   "outputs": [
    {
     "data": {
      "image/png": "[encoded data removed]",
      "text/plain": [
       "<Figure size 864x360 with 2 Axes>"
      ]
     },
     "metadata": {},
     "output_type": "display_data"
    },
    {
     "data": {
      "application/javascript": [
       "\n",
       "            setTimeout(function() {\n",
       "                var nbb_cell_id = 35;\n",
       "                var nbb_formatted_code = \"freshd = topdes[topdes == 1]\\noldd = topdes[topdes != 1]\\nlabels = \\\"Regular workers\\\", \\\"New designers\\\"\\nfig, piedev = plt.subplots(1, 2, figsize=(12, 5))\\npiedev[0].pie([oldd.size, freshd.size], autopct=\\\"%1.1f%%\\\", labels=labels)\\npiedev[0].set_title(\\\"All designers\\\")\\n\\ndrme = groupsun.groupby(\\\"Designer\\\")[\\\"owned\\\"].mean().drop(labels=[\\\"(Uncredited)\\\"])\\ndrme = drme[drme > drme.mean()]\\nsucdes = topdes.loc[drme.index.values]\\n\\nfreshs = sucdes[sucdes == 1]\\nolds = sucdes[sucdes != 1]\\npiedev[1].set_title(\\\"Succesive designers\\\")\\npiedev[1].pie([olds.size, freshs.size], autopct=\\\"%1.1f%%\\\", labels=labels)\\nplt.rcParams.update({\\\"font.size\\\": 12})\\nplt.show()\";\n",
       "                var nbb_cells = Jupyter.notebook.get_cells();\n",
       "                for (var i = 0; i < nbb_cells.length; ++i) {\n",
       "                    if (nbb_cells[i].input_prompt_number == nbb_cell_id) {\n",
       "                        nbb_cells[i].set_text(nbb_formatted_code);\n",
       "                        break;\n",
       "                    }\n",
       "                }\n",
       "            }, 500);\n",
       "            "
      ],
      "text/plain": [
       "<IPython.core.display.Javascript object>"
      ]
     },
     "metadata": {},
     "output_type": "display_data"
    }
   ],
   "source": [
    "freshd = topdes[topdes == 1]\n",
    "oldd = topdes[topdes != 1]\n",
    "labels = \"Regular workers\", \"New designers\"\n",
    "fig, piedev = plt.subplots(1, 2, figsize=(12, 5))\n",
    "piedev[0].pie([oldd.size, freshd.size], autopct=\"%1.1f%%\", labels=labels)\n",
    "piedev[0].set_title(\"All designers\")\n",
    "\n",
    "drme = groupsun.groupby(\"Designer\")[\"owned\"].mean().drop(labels=[\"(Uncredited)\"])\n",
    "drme = drme[drme > drme.mean()]\n",
    "sucdes = topdes.loc[drme.index.values]\n",
    "\n",
    "freshs = sucdes[sucdes == 1]\n",
    "olds = sucdes[sucdes != 1]\n",
    "piedev[1].set_title(\"Succesive designers\")\n",
    "piedev[1].pie([olds.size, freshs.size], autopct=\"%1.1f%%\", labels=labels)\n",
    "plt.rcParams.update({\"font.size\": 12})\n",
    "plt.show()"
   ]
  },
  {
   "cell_type": "markdown",
   "metadata": {},
   "source": [
    "### In result\n",
    "* Many designers in the board game area work do not work there constantly and use experience from other areas.\n",
    "* It is not very important to have experienced game designer to make succesive game."
   ]
  },
  {
   "cell_type": "markdown",
   "metadata": {},
   "source": [
    "Next pie chart shows the percentage of designers who developed top 100 games working frist time in industry."
   ]
  },
  {
   "cell_type": "code",
   "execution_count": 36,
   "metadata": {},
   "outputs": [
    {
     "data": {
      "application/javascript": [
       "\n",
       "            setTimeout(function() {\n",
       "                var nbb_cell_id = 36;\n",
       "                var nbb_formatted_code = \"def firye(row, desbeg, alldes):\\n    if desbeg[row[\\\"Designer\\\"]] == row[\\\"year\\\"]:\\n        row[\\\"ExpierDes\\\"] = 0\\n    else:\\n        nlv = alldes[\\n            (alldes[\\\"Designer\\\"] == row[\\\"Designer\\\"])\\n            & (alldes[\\\"year\\\"] == desbeg[row[\\\"Designer\\\"]])\\n        ][\\\"ValNum\\\"]\\n        row[\\\"ExpierDes\\\"] = row[\\\"ValNum\\\"] - nlv.iloc[0]\\n    return row\\n\\n\\ndesbeg = groupsun.groupby(\\\"Designer\\\")[\\\"year\\\"].min()\\ngropdesort = groupsun.sort_values(by=[\\\"Designer\\\", \\\"year\\\"], ascending=True)\\ngropdesort = gropdesort[\\n    (gropdesort[\\\"Designer\\\"] != \\\"(Uncredited)\\\") & (gropdesort[\\\"Designer\\\"] != \\\"none\\\")\\n]\\ngropdesort[\\\"ExpierDes\\\"] = np.nan\\ngropdesort[\\\"ValNum\\\"] = np.arange(len(gropdesort))\\ngropdesort = gropdesort.apply(lambda x: firye(x, desbeg, gropdesort), axis=1)\\ngropdesort.drop(columns=[\\\"ValNum\\\"], inplace=True)\";\n",
       "                var nbb_cells = Jupyter.notebook.get_cells();\n",
       "                for (var i = 0; i < nbb_cells.length; ++i) {\n",
       "                    if (nbb_cells[i].input_prompt_number == nbb_cell_id) {\n",
       "                        nbb_cells[i].set_text(nbb_formatted_code);\n",
       "                        break;\n",
       "                    }\n",
       "                }\n",
       "            }, 500);\n",
       "            "
      ],
      "text/plain": [
       "<IPython.core.display.Javascript object>"
      ]
     },
     "metadata": {},
     "output_type": "display_data"
    }
   ],
   "source": [
    "def firye(row, desbeg, alldes):\n",
    "    if desbeg[row[\"Designer\"]] == row[\"year\"]:\n",
    "        row[\"ExpierDes\"] = 0\n",
    "    else:\n",
    "        nlv = alldes[\n",
    "            (alldes[\"Designer\"] == row[\"Designer\"])\n",
    "            & (alldes[\"year\"] == desbeg[row[\"Designer\"]])\n",
    "        ][\"ValNum\"]\n",
    "        row[\"ExpierDes\"] = row[\"ValNum\"] - nlv.iloc[0]\n",
    "    return row\n",
    "\n",
    "\n",
    "desbeg = groupsun.groupby(\"Designer\")[\"year\"].min()\n",
    "gropdesort = groupsun.sort_values(by=[\"Designer\", \"year\"], ascending=True)\n",
    "gropdesort = gropdesort[\n",
    "    (gropdesort[\"Designer\"] != \"(Uncredited)\") & (gropdesort[\"Designer\"] != \"none\")\n",
    "]\n",
    "gropdesort[\"ExpierDes\"] = np.nan\n",
    "gropdesort[\"ValNum\"] = np.arange(len(gropdesort))\n",
    "gropdesort = gropdesort.apply(lambda x: firye(x, desbeg, gropdesort), axis=1)\n",
    "gropdesort.drop(columns=[\"ValNum\"], inplace=True)"
   ]
  },
  {
   "cell_type": "code",
   "execution_count": 37,
   "metadata": {},
   "outputs": [
    {
     "data": {
      "image/png": "[encoded data removed]",
      "text/plain": [
       "<Figure size 432x288 with 1 Axes>"
      ]
     },
     "metadata": {},
     "output_type": "display_data"
    },
    {
     "data": {
      "application/javascript": [
       "\n",
       "            setTimeout(function() {\n",
       "                var nbb_cell_id = 37;\n",
       "                var nbb_formatted_code = \"t100gwdes = gropdesort.sort_values(by=[\\\"owned\\\"], ascending=False).head(158)\\nfig, axmp = plt.subplots()\\nfrd = t100gwdes[t100gwdes[\\\"ExpierDes\\\"] < 1].size\\nold = t100gwdes[t100gwdes[\\\"ExpierDes\\\"] >= 1].size\\naxmp.title.set_text(\\\"Freshmans in top 100\\\")\\n\\nlabels = \\\"New designers\\\", \\\"Regular workers\\\"\\naxmp.pie([frd, old], autopct=\\\"%1.1f%%\\\", labels=labels)\\nplt.show()\";\n",
       "                var nbb_cells = Jupyter.notebook.get_cells();\n",
       "                for (var i = 0; i < nbb_cells.length; ++i) {\n",
       "                    if (nbb_cells[i].input_prompt_number == nbb_cell_id) {\n",
       "                        nbb_cells[i].set_text(nbb_formatted_code);\n",
       "                        break;\n",
       "                    }\n",
       "                }\n",
       "            }, 500);\n",
       "            "
      ],
      "text/plain": [
       "<IPython.core.display.Javascript object>"
      ]
     },
     "metadata": {},
     "output_type": "display_data"
    }
   ],
   "source": [
    "t100gwdes = gropdesort.sort_values(by=[\"owned\"], ascending=False).head(158)\n",
    "fig, axmp = plt.subplots()\n",
    "frd = t100gwdes[t100gwdes[\"ExpierDes\"] < 1].size\n",
    "old = t100gwdes[t100gwdes[\"ExpierDes\"] >= 1].size\n",
    "axmp.title.set_text(\"Freshmans in top 100\")\n",
    "\n",
    "labels = \"New designers\", \"Regular workers\"\n",
    "axmp.pie([frd, old], autopct=\"%1.1f%%\", labels=labels)\n",
    "plt.show()"
   ]
  },
  {
   "cell_type": "code",
   "execution_count": 90,
   "metadata": {},
   "outputs": [
    {
     "data": {
      "image/png": "[encoded data removed]",
      "text/plain": [
       "<Figure size 432x288 with 1 Axes>"
      ]
     },
     "metadata": {
      "needs_background": "light"
     },
     "output_type": "display_data"
    },
    {
     "data": {
      "application/javascript": [
       "\n",
       "            setTimeout(function() {\n",
       "                var nbb_cell_id = 90;\n",
       "                var nbb_formatted_code = \"fig, axog = plt.subplots()\\nsns.regplot(\\n    groupsun.groupby(\\\"Designer\\\")[\\\"names\\\"].count(),\\n    groupsun.groupby(\\\"Designer\\\")[\\\"owned\\\"].mean(),\\n    ax=axog,\\n    line_kws={\\\"color\\\": \\\"red\\\"},\\n)\\naxog.set_xlim(0, 40)\\naxog.set_xlabel(\\\"Number of games\\\")\\naxog.set_ylabel(\\\"Designers games popularity\\\")\\naxog.title.set_text(\\\"Experience vs success\\\")\\nplt.show()\";\n",
       "                var nbb_cells = Jupyter.notebook.get_cells();\n",
       "                for (var i = 0; i < nbb_cells.length; ++i) {\n",
       "                    if (nbb_cells[i].input_prompt_number == nbb_cell_id) {\n",
       "                        nbb_cells[i].set_text(nbb_formatted_code);\n",
       "                        break;\n",
       "                    }\n",
       "                }\n",
       "            }, 500);\n",
       "            "
      ],
      "text/plain": [
       "<IPython.core.display.Javascript object>"
      ]
     },
     "metadata": {},
     "output_type": "display_data"
    }
   ],
   "source": [
    "fig, axog = plt.subplots()\n",
    "sns.regplot(\n",
    "    groupsun.groupby(\"Designer\")[\"names\"].count(),\n",
    "    groupsun.groupby(\"Designer\")[\"owned\"].mean(),\n",
    "    ax=axog,\n",
    "    line_kws={\"color\": \"red\"},\n",
    ")\n",
    "axog.set_xlim(0, 40)\n",
    "axog.set_xlabel(\"Number of games\")\n",
    "axog.set_ylabel(\"Designers games popularity\")\n",
    "axog.title.set_text(\"Experience vs success\")\n",
    "plt.show()"
   ]
  },
  {
   "cell_type": "markdown",
   "metadata": {},
   "source": [
    "### In result\n",
    "* Best board games were made by beginers in this area.\n",
    "* Gorw of average success exist but it is not sharp."
   ]
  },
  {
   "cell_type": "markdown",
   "metadata": {},
   "source": [
    "Next scatter plot shows the same idea but compares game pupularity with average experience of its designers."
   ]
  },
  {
   "cell_type": "code",
   "execution_count": 91,
   "metadata": {},
   "outputs": [
    {
     "data": {
      "image/png": "[encoded data removed]",
      "text/plain": [
       "<Figure size 432x288 with 1 Axes>"
      ]
     },
     "metadata": {
      "needs_background": "light"
     },
     "output_type": "display_data"
    },
    {
     "data": {
      "application/javascript": [
       "\n",
       "            setTimeout(function() {\n",
       "                var nbb_cell_id = 91;\n",
       "                var nbb_formatted_code = \"fig, axog = plt.subplots()\\nsns.regplot(\\n    gropdesort.groupby(\\\"names\\\")[\\\"ExpierDes\\\"].mean(),\\n    gropdesort.groupby(\\\"names\\\")[\\\"owned\\\"].mean(),\\n    ax=axog,\\n    line_kws={\\\"color\\\": \\\"red\\\"},\\n)\\naxog.set_xlabel(\\\"Average experience of designers\\\")\\naxog.set_ylabel(\\\"Game popularity\\\")\\naxog.title.set_text(\\\"Avearage experience of designers vs success\\\")\\nplt.show()\";\n",
       "                var nbb_cells = Jupyter.notebook.get_cells();\n",
       "                for (var i = 0; i < nbb_cells.length; ++i) {\n",
       "                    if (nbb_cells[i].input_prompt_number == nbb_cell_id) {\n",
       "                        nbb_cells[i].set_text(nbb_formatted_code);\n",
       "                        break;\n",
       "                    }\n",
       "                }\n",
       "            }, 500);\n",
       "            "
      ],
      "text/plain": [
       "<IPython.core.display.Javascript object>"
      ]
     },
     "metadata": {},
     "output_type": "display_data"
    }
   ],
   "source": [
    "fig, axog = plt.subplots()\n",
    "sns.regplot(\n",
    "    gropdesort.groupby(\"names\")[\"ExpierDes\"].mean(),\n",
    "    gropdesort.groupby(\"names\")[\"owned\"].mean(),\n",
    "    ax=axog,\n",
    "    line_kws={\"color\": \"red\"},\n",
    ")\n",
    "axog.set_xlabel(\"Average experience of designers\")\n",
    "axog.set_ylabel(\"Game popularity\")\n",
    "axog.title.set_text(\"Avearage experience of designers vs success\")\n",
    "plt.show()"
   ]
  },
  {
   "cell_type": "markdown",
   "metadata": {},
   "source": [
    "## Age "
   ]
  },
  {
   "cell_type": "code",
   "execution_count": 40,
   "metadata": {},
   "outputs": [
    {
     "data": {
      "image/png": "[encoded data removed]",
      "text/plain": [
       "<Figure size 432x288 with 1 Axes>"
      ]
     },
     "metadata": {
      "needs_background": "light"
     },
     "output_type": "display_data"
    },
    {
     "data": {
      "application/javascript": [
       "\n",
       "            setTimeout(function() {\n",
       "                var nbb_cell_id = 40;\n",
       "                var nbb_formatted_code = \"gmage = games.groupby(\\\"age\\\")[\\\"owned\\\"].count()\\nagelim = sns.barplot(gmage.index, gmage, color=\\\"#8C96DB\\\")\\nagelim.spines[\\\"top\\\"].set_visible(False)\\nagelim.spines[\\\"right\\\"].set_visible(False)\\nagelim.set_xlabel(\\\"Age limit\\\")\\nagelim.set_ylabel(\\\"Number of games\\\")\\nagelim.title.set_text(\\\"Games Distribution by age limit\\\")\";\n",
       "                var nbb_cells = Jupyter.notebook.get_cells();\n",
       "                for (var i = 0; i < nbb_cells.length; ++i) {\n",
       "                    if (nbb_cells[i].input_prompt_number == nbb_cell_id) {\n",
       "                        nbb_cells[i].set_text(nbb_formatted_code);\n",
       "                        break;\n",
       "                    }\n",
       "                }\n",
       "            }, 500);\n",
       "            "
      ],
      "text/plain": [
       "<IPython.core.display.Javascript object>"
      ]
     },
     "metadata": {},
     "output_type": "display_data"
    }
   ],
   "source": [
    "gmage = games.groupby(\"age\")[\"owned\"].count()\n",
    "agelim = sns.barplot(gmage.index, gmage, color=\"#8C96DB\")\n",
    "agelim.spines[\"top\"].set_visible(False)\n",
    "agelim.spines[\"right\"].set_visible(False)\n",
    "agelim.set_xlabel(\"Age limit\")\n",
    "agelim.set_ylabel(\"Number of games\")\n",
    "agelim.title.set_text(\"Games Distribution by age limit\")"
   ]
  },
  {
   "cell_type": "markdown",
   "metadata": {},
   "source": [
    "## In result\n",
    "* There are 3 main age limit categories for board games from 8, 10 and 12 years old."
   ]
  },
  {
   "cell_type": "markdown",
   "metadata": {},
   "source": [
    "## Weight and time"
   ]
  },
  {
   "cell_type": "code",
   "execution_count": 41,
   "metadata": {},
   "outputs": [
    {
     "data": {
      "image/png": "[encoded data removed]",
      "text/plain": [
       "<Figure size 576x576 with 2 Axes>"
      ]
     },
     "metadata": {
      "needs_background": "light"
     },
     "output_type": "display_data"
    },
    {
     "data": {
      "application/javascript": [
       "\n",
       "            setTimeout(function() {\n",
       "                var nbb_cell_id = 41;\n",
       "                var nbb_formatted_code = \"fig, boxwt = plt.subplots(1, 2, figsize=(8, 8))\\ngmwei = games[\\\"weight\\\"]\\nsns.boxplot(y=gmwei, ax=boxwt[0], showfliers=False, color=\\\"green\\\")\\nboxwt[0].set_ylabel(\\\"\\\")\\nboxwt[0].title.set_text(\\\"Weight\\\")\\n\\ngmtim = games[\\\"avg_time\\\"]\\nsns.boxplot(y=gmtim, ax=boxwt[1], showfliers=False)\\nboxwt[1].set_ylabel(\\\"\\\")\\nboxwt[1].title.set_text(\\\"Time\\\")\\nboxwt[1].set_yticklabels(pd.to_datetime(axty.get_yticks(), unit=\\\"m\\\").strftime(\\\"%H:%M\\\"))\\n\\nplt.tight_layout()\";\n",
       "                var nbb_cells = Jupyter.notebook.get_cells();\n",
       "                for (var i = 0; i < nbb_cells.length; ++i) {\n",
       "                    if (nbb_cells[i].input_prompt_number == nbb_cell_id) {\n",
       "                        nbb_cells[i].set_text(nbb_formatted_code);\n",
       "                        break;\n",
       "                    }\n",
       "                }\n",
       "            }, 500);\n",
       "            "
      ],
      "text/plain": [
       "<IPython.core.display.Javascript object>"
      ]
     },
     "metadata": {},
     "output_type": "display_data"
    }
   ],
   "source": [
    "fig, boxwt = plt.subplots(1, 2, figsize=(8, 8))\n",
    "gmwei = games[\"weight\"]\n",
    "sns.boxplot(y=gmwei, ax=boxwt[0], showfliers=False, color=\"green\")\n",
    "boxwt[0].set_ylabel(\"\")\n",
    "boxwt[0].title.set_text(\"Weight\")\n",
    "\n",
    "gmtim = games[\"avg_time\"]\n",
    "sns.boxplot(y=gmtim, ax=boxwt[1], showfliers=False)\n",
    "boxwt[1].set_ylabel(\"\")\n",
    "boxwt[1].title.set_text(\"Time\")\n",
    "boxwt[1].set_yticklabels(pd.to_datetime(axty.get_yticks(), unit=\"m\").strftime(\"%H:%M\"))\n",
    "\n",
    "plt.tight_layout()"
   ]
  },
  {
   "cell_type": "markdown",
   "metadata": {},
   "source": [
    "### In result\n",
    "* Average weight of board game is 2.3 kg.\n",
    "* Average duration of board game session is 1h 45 min."
   ]
  },
  {
   "cell_type": "markdown",
   "metadata": {},
   "source": [
    "Comparasent:"
   ]
  },
  {
   "cell_type": "code",
   "execution_count": 42,
   "metadata": {},
   "outputs": [
    {
     "data": {
      "image/png": "[encoded data removed]",
      "text/plain": [
       "<Figure size 576x360 with 1 Axes>"
      ]
     },
     "metadata": {
      "needs_background": "light"
     },
     "output_type": "display_data"
    },
    {
     "data": {
      "application/javascript": [
       "\n",
       "            setTimeout(function() {\n",
       "                var nbb_cell_id = 42;\n",
       "                var nbb_formatted_code = \"nor_wei = games[(games[\\\"avg_time\\\"] > 0) & (games[\\\"weight\\\"] > 0)]\\nfig, axet = plt.subplots(figsize=(8, 5))\\njnwt = sns.jointplot(\\\"avg_time\\\", \\\"weight\\\", data=nor_wei, kind=\\\"kde\\\", ax=axet)\\naxet.set_xlim(0, 500)\\naxet.set_xticklabels(pd.to_datetime(axet.get_xticks(), unit=\\\"m\\\").strftime(\\\"%H:%M\\\"))\\naxet.title.set_text(\\\"Board game weight to time\\\")\\naxet.set_xlabel(\\\"Average Time\\\")\\naxet.set_ylabel(\\\"Weight\\\")\\nplt.close()\";\n",
       "                var nbb_cells = Jupyter.notebook.get_cells();\n",
       "                for (var i = 0; i < nbb_cells.length; ++i) {\n",
       "                    if (nbb_cells[i].input_prompt_number == nbb_cell_id) {\n",
       "                        nbb_cells[i].set_text(nbb_formatted_code);\n",
       "                        break;\n",
       "                    }\n",
       "                }\n",
       "            }, 500);\n",
       "            "
      ],
      "text/plain": [
       "<IPython.core.display.Javascript object>"
      ]
     },
     "metadata": {},
     "output_type": "display_data"
    }
   ],
   "source": [
    "nor_wei = games[(games[\"avg_time\"] > 0) & (games[\"weight\"] > 0)]\n",
    "fig, axet = plt.subplots(figsize=(8, 5))\n",
    "jnwt = sns.jointplot(\"avg_time\", \"weight\", data=nor_wei, kind=\"kde\", ax=axet)\n",
    "axet.set_xlim(0, 500)\n",
    "axet.set_xticklabels(pd.to_datetime(axet.get_xticks(), unit=\"m\").strftime(\"%H:%M\"))\n",
    "axet.title.set_text(\"Board game weight to time\")\n",
    "axet.set_xlabel(\"Average Time\")\n",
    "axet.set_ylabel(\"Weight\")\n",
    "plt.close()"
   ]
  },
  {
   "cell_type": "markdown",
   "metadata": {},
   "source": [
    "### In result:\n",
    "* Only long games (with duration more than 3 hours) become heavier with time."
   ]
  },
  {
   "cell_type": "code",
   "execution_count": null,
   "metadata": {},
   "outputs": [],
   "source": []
  }
 ],
 "metadata": {
  "kernelspec": {
   "display_name": "Python 3",
   "language": "python",
   "name": "python3"
  },
  "language_info": {
   "codemirror_mode": {
    "name": "ipython",
    "version": 3
   },
   "file_extension": ".py",
   "mimetype": "text/x-python",
   "name": "python",
   "nbconvert_exporter": "python",
   "pygments_lexer": "ipython3",
   "version": "3.6.8"
  }
 },
 "nbformat": 4,
 "nbformat_minor": 2
}
